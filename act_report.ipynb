{
 "cells": [
  {
   "cell_type": "markdown",
   "metadata": {},
   "source": [
    "# WeRateDogs Twitter data \n",
    "\n",
    "Gathering and Analysing dog data!<br>\n",
    "**by : Sumaya Altamimi**<br>\n",
    "![](images/high_rated.jpg)"
   ]
  },
  {
   "cell_type": "markdown",
   "metadata": {},
   "source": [
    "In this report \n",
    "I will present my data analyses and visualizations from datasets that I gathered. The data is from Twitter user **@dog_rates** who has above 8 millions followers and has received international media coverage. **WeRateDog** is a Twitter account that rates people's dogs with a humorous comment about the dog.\n",
    "These ratings almost always have a denominator of 10. The numerators, though almost always greater than 10. 11/10, 12/10, 13/10, etc. Because \"they're good dogs Brent."
   ]
  },
  {
   "cell_type": "markdown",
   "metadata": {},
   "source": [
    "The final datasets contains information about posted tweets and dogs. A part of the dataset looks like the table below:<br>\n",
    "![](images/table.png)<br>"
   ]
  },
  {
   "cell_type": "markdown",
   "metadata": {},
   "source": [
    "## In this article, I will communicates the main findings with some visualization produced from my wrangled data as follow:\n",
    "- Dog names that are common in the world\n",
    "- The most liked and retweeted tweet (and so the dog information)\n",
    "- The rating results and the most rated dog"
   ]
  },
  {
   "cell_type": "markdown",
   "metadata": {},
   "source": [
    "## 1. Dog Names\n",
    "### The most common dog names are Cooper, Oliver, and Charlie, as shown in the plot below:<br>\n",
    "![](visuals/Dog_names.png)<br>\n",
    "#### Below is one of the dogs who called Cooper\n",
    "![](images/cooper1.jpeg)<br>\n"
   ]
  },
  {
   "cell_type": "markdown",
   "metadata": {},
   "source": [
    "## 2. The most liked dog\n",
    "### Below is the plot of the high liked and retweeted dogs<br>\n",
    "![](visuals/likes.png)<br>\n",
    "\n",
    "#### Doggo is the most liked and retweeted dog . <br>This tweet got 152491likes and 75472 retweets.\n",
    "![](images/liked.png)<br>\n"
   ]
  },
  {
   "cell_type": "markdown",
   "metadata": {},
   "source": [
    "## 3. The most rated dog\n",
    "\n",
    "#### There is a huge difference in ratings as shown in the figure! The rating distribution for each dog is as follow:<br>\n",
    "![](visuals/rates.png)<br>\n",
    "\n",
    "#### Atticus is the high rated dog, according to rateDog rating system. It received 1776.0/10 <br>\n",
    "![](images/high_rated_image.jpg)<br>"
   ]
  }
 ],
 "metadata": {
  "kernelspec": {
   "display_name": "Python 3",
   "language": "python",
   "name": "python3"
  },
  "language_info": {
   "codemirror_mode": {
    "name": "ipython",
    "version": 3
   },
   "file_extension": ".py",
   "mimetype": "text/x-python",
   "name": "python",
   "nbconvert_exporter": "python",
   "pygments_lexer": "ipython3",
   "version": "3.8.3"
  }
 },
 "nbformat": 4,
 "nbformat_minor": 4
}
