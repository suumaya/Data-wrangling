{
 "cells": [
  {
   "cell_type": "markdown",
   "metadata": {},
   "source": [
    "#  Analyze Dog Data \n",
    "\n",
    "\n",
    "### import needed libraries"
   ]
  },
  {
   "cell_type": "code",
   "execution_count": 1,
   "metadata": {},
   "outputs": [],
   "source": [
    "import requests\n",
    "import os\n",
    "import json\n",
    "import time\n",
    "import pandas as pd\n",
    "import numpy as npp\n",
    "import tweepy\n",
    "import matplotlib.pyplot as plt"
   ]
  },
  {
   "cell_type": "markdown",
   "metadata": {},
   "source": [
    "##  Gather \n",
    "### Existing files or urls :"
   ]
  },
  {
   "cell_type": "code",
   "execution_count": 2,
   "metadata": {},
   "outputs": [],
   "source": [
    "archive = pd.read_csv('twitter-archive-enhanced.csv') #already gathered"
   ]
  },
  {
   "cell_type": "code",
   "execution_count": 3,
   "metadata": {},
   "outputs": [],
   "source": [
    "url = 'https://d17h27t6h515a5.cloudfront.net/topher/2017/August/599fd2ad_image-predictions/image-predictions.tsv'\n",
    "response = requests.get(url)\n",
    "content = response.content\n",
    "prediction_folder = 'prediction_folder'\n",
    "predictions_file_name = url.split('/')[-1]"
   ]
  },
  {
   "cell_type": "code",
   "execution_count": 4,
   "metadata": {},
   "outputs": [],
   "source": [
    "if not os.path.exists(prediction_folder):\n",
    "    os.makedirs(prediction_folder)\n",
    "\n",
    "with open(os.path.join(prediction_folder,predictions_file_name),mode='wb') as file:\n",
    "    file.write(response.content)\n",
    "\n",
    "image_predictions = pd.read_csv(predictions_file_name,sep='\\t')"
   ]
  },
  {
   "cell_type": "markdown",
   "metadata": {},
   "source": [
    "#### Create an API object  to gather Twitter data."
   ]
  },
  {
   "cell_type": "code",
   "execution_count": 6,
   "metadata": {},
   "outputs": [],
   "source": [
    "consumer_key = '26tgFswcrskTs4XPdie0XlRnP'\n",
    "consumer_secret = '70l0vuduT02mm6IswK75IMy0paCtwAioTxndMPlqARQbWKXHAf'\n",
    "access_token = '1550344364-BHHQZTo98ixy6bUVorDi6KWtUonGrnnxDw60zfE'\n",
    "access_secret = 'ivWV2ePqrQ6WzvsEdWb3qz1OistiSNBEVOdhovU4AiU39'\n",
    "\n",
    "auth = tweepy.OAuthHandler(consumer_key, consumer_secret)\n",
    "auth.set_access_token(access_token, access_secret)\n",
    "\n",
    "api = tweepy.API(auth,wait_on_rate_limit=True,wait_on_rate_limit_notify=True)"
   ]
  },
  {
   "cell_type": "code",
   "execution_count": 7,
   "metadata": {},
   "outputs": [
    {
     "data": {
      "text/plain": [
       "2356"
      ]
     },
     "execution_count": 7,
     "metadata": {},
     "output_type": "execute_result"
    }
   ],
   "source": [
    "user = api.get_user('dog_rates')\n",
    "user_id = user.id\n",
    "# Using the tweet IDs in the WeRateDogs Twitter archive\n",
    "tweet_ids = archive.tweet_id\n",
    "last_tweet_id = user.status.id\n",
    "len(tweet_ids)"
   ]
  },
  {
   "cell_type": "markdown",
   "metadata": {},
   "source": [
    "#### Write JSON data \n",
    "Tweets are in json format, will query each tweet ID and  write its JSON data to `tweet_json.txt` file, with each tweet's JSON data on its own line.\n",
    "<br> 20-30 minutes of running time is expected, to query all of the tweet IDs in archive"
   ]
  },
  {
   "cell_type": "code",
   "execution_count": 8,
   "metadata": {},
   "outputs": [],
   "source": [
    "tweets = []    \n",
    "n_crashed = 0\n",
    "n_worked = 0"
   ]
  },
  {
   "cell_type": "code",
   "execution_count": 9,
   "metadata": {},
   "outputs": [
    {
     "name": "stderr",
     "output_type": "stream",
     "text": [
      "Rate limit reached. Sleeping for: 394\n",
      "Rate limit reached. Sleeping for: 396\n"
     ]
    }
   ],
   "source": [
    "with open('tweet_json.txt', 'w', encoding='utf-8') as file:\n",
    "    initial_time = time.time()\n",
    "    for tweet_id in tweet_ids:\n",
    "        try:\n",
    "            tweet = api.get_status(tweet_id, tweet_mode='extended')\n",
    "            n_worked+=1\n",
    "            json_content = tweet._json\n",
    "            json.dump(json_content, file)\n",
    "            file.write('\\n')\n",
    "        except:\n",
    "            n_crashed+=1\n",
    "final_time = time.time()"
   ]
  },
  {
   "cell_type": "code",
   "execution_count": 12,
   "metadata": {},
   "outputs": [
    {
     "name": "stdout",
     "output_type": "stream",
     "text": [
      "Time of runing  the code above : 35 Minutes\n",
      "Number of tweets that are worked : 2331\n",
      "Number of tweets that are not worked : 25\n"
     ]
    }
   ],
   "source": [
    "print(\"%s %d %s\" % ('Time of runing  the code above :', (final_time-initial_time)/60,'Minutes'))\n",
    "print(\"%s %d\" % ('Number of tweets that are worked :', n_worked))\n",
    "print(\"%s %d\" % ('Number of tweets that are not worked :', n_crashed)) \n",
    "#why more than 2356? maby enter both try & except? \n",
    "#or counted retweets as well and mistakes or duplicates?"
   ]
  },
  {
   "cell_type": "markdown",
   "metadata": {},
   "source": [
    "#### Read JSON data  \n",
    "Will read **id, txt, retweets, and likes** as basics<br>\n",
    "Will try to read **names, images, urls and ratings.** "
   ]
  },
  {
   "cell_type": "code",
   "execution_count": 13,
   "metadata": {},
   "outputs": [],
   "source": [
    "with_media = 0\n",
    "with_url = 0\n",
    "find_digit =0\n",
    "data_missing =0\n",
    "with open('tweet_json.txt', 'r',encoding='utf-8') as file:\n",
    "    for single_line in file:\n",
    "        \n",
    "        tweet = json.loads(single_line)\n",
    "        entities =  tweet['entities']\n",
    "        \n",
    "        d = { 'tweet_id': tweet['id'],\n",
    "                        'text': tweet['full_text'],\n",
    "                        'retweets': tweet['retweet_count'],\n",
    "                        'likes': tweet['favorite_count']\n",
    "                       }\n",
    "        try:\n",
    "                d['nemae'] = tweet['full_text'].split('.')[0].split(' ')[2]\n",
    "        \n",
    "        \n",
    "        except:\n",
    "                data_missing+=1\n",
    "        \n",
    "        try:\n",
    "      \n",
    "                d['image'] = entities['media'][0]['media_url_https']\n",
    "                with_media+=1\n",
    "     \n",
    "        except:\n",
    "                data_missing+=1    \n",
    "        \n",
    "        \n",
    "        try:\n",
    "\n",
    "                d['url']= entities['media'][0]['expanded_url']\n",
    "                with_url+=1\n",
    "        \n",
    "        except:\n",
    "                data_missing+=1\n",
    "                \n",
    "        try:\n",
    "               \n",
    "                x = tweet['full_text'].split('/')\n",
    "                d['rating/10']= x[0][-2:]\n",
    "                #d['second']= x[1][0:2] #always 10\n",
    "                find_digit+=1\n",
    "                \n",
    "                \n",
    "        except:\n",
    "                data_missing+=1      \n",
    "            \n",
    "        tweets.append(d)"
   ]
  },
  {
   "cell_type": "code",
   "execution_count": 14,
   "metadata": {},
   "outputs": [
    {
     "name": "stdout",
     "output_type": "stream",
     "text": [
      "2059  tweets with images\n",
      "2059  tweets with urls\n",
      "777  missing data\n",
      "2331  found ratings\n"
     ]
    }
   ],
   "source": [
    "print( with_media ,' tweets with images')\n",
    "print( with_url ,' tweets with urls')\n",
    "print( data_missing ,' missing data')\n",
    "print( find_digit ,' found ratings')"
   ]
  },
  {
   "cell_type": "code",
   "execution_count": 15,
   "metadata": {},
   "outputs": [],
   "source": [
    "dog_data = pd.DataFrame(tweets,columns=['tweet_id','image','url','text','name','rating/10','retweets','likes'])\n",
    "dog_data.to_csv('data_collected.csv')"
   ]
  },
  {
   "cell_type": "code",
   "execution_count": 16,
   "metadata": {},
   "outputs": [
    {
     "data": {
      "text/plain": [
       "13096"
      ]
     },
     "execution_count": 16,
     "metadata": {},
     "output_type": "execute_result"
    }
   ],
   "source": [
    "user.statuses_count "
   ]
  },
  {
   "cell_type": "markdown",
   "metadata": {},
   "source": [
    "## <font color='purple'> Assess </font>\n",
    "\n",
    "In this section I will assess both `image_predictions` and `archive`"
   ]
  },
  {
   "cell_type": "code",
   "execution_count": 17,
   "metadata": {},
   "outputs": [
    {
     "name": "stdout",
     "output_type": "stream",
     "text": [
      "<class 'pandas.core.frame.DataFrame'>\n",
      "RangeIndex: 2075 entries, 0 to 2074\n",
      "Data columns (total 12 columns):\n",
      " #   Column    Non-Null Count  Dtype  \n",
      "---  ------    --------------  -----  \n",
      " 0   tweet_id  2075 non-null   int64  \n",
      " 1   jpg_url   2075 non-null   object \n",
      " 2   img_num   2075 non-null   int64  \n",
      " 3   p1        2075 non-null   object \n",
      " 4   p1_conf   2075 non-null   float64\n",
      " 5   p1_dog    2075 non-null   bool   \n",
      " 6   p2        2075 non-null   object \n",
      " 7   p2_conf   2075 non-null   float64\n",
      " 8   p2_dog    2075 non-null   bool   \n",
      " 9   p3        2075 non-null   object \n",
      " 10  p3_conf   2075 non-null   float64\n",
      " 11  p3_dog    2075 non-null   bool   \n",
      "dtypes: bool(3), float64(3), int64(2), object(4)\n",
      "memory usage: 152.1+ KB\n"
     ]
    }
   ],
   "source": [
    "image_predictions.info()"
   ]
  },
  {
   "cell_type": "code",
   "execution_count": 18,
   "metadata": {},
   "outputs": [
    {
     "name": "stdout",
     "output_type": "stream",
     "text": [
      "<class 'pandas.core.frame.DataFrame'>\n",
      "RangeIndex: 2356 entries, 0 to 2355\n",
      "Data columns (total 17 columns):\n",
      " #   Column                      Non-Null Count  Dtype  \n",
      "---  ------                      --------------  -----  \n",
      " 0   tweet_id                    2356 non-null   int64  \n",
      " 1   in_reply_to_status_id       78 non-null     float64\n",
      " 2   in_reply_to_user_id         78 non-null     float64\n",
      " 3   timestamp                   2356 non-null   object \n",
      " 4   source                      2356 non-null   object \n",
      " 5   text                        2356 non-null   object \n",
      " 6   retweeted_status_id         181 non-null    float64\n",
      " 7   retweeted_status_user_id    181 non-null    float64\n",
      " 8   retweeted_status_timestamp  181 non-null    object \n",
      " 9   expanded_urls               2297 non-null   object \n",
      " 10  rating_numerator            2356 non-null   int64  \n",
      " 11  rating_denominator          2356 non-null   int64  \n",
      " 12  name                        2356 non-null   object \n",
      " 13  doggo                       2356 non-null   object \n",
      " 14  floofer                     2356 non-null   object \n",
      " 15  pupper                      2356 non-null   object \n",
      " 16  puppo                       2356 non-null   object \n",
      "dtypes: float64(4), int64(3), object(10)\n",
      "memory usage: 313.0+ KB\n"
     ]
    }
   ],
   "source": [
    "archive.info()"
   ]
  },
  {
   "cell_type": "code",
   "execution_count": 19,
   "metadata": {},
   "outputs": [
    {
     "data": {
      "text/plain": [
       "17    tweet_id\n",
       "dtype: object"
      ]
     },
     "execution_count": 19,
     "metadata": {},
     "output_type": "execute_result"
    }
   ],
   "source": [
    "all_columns = pd.Series(list(archive) + list(image_predictions))\n",
    "all_columns[all_columns.duplicated()]"
   ]
  },
  {
   "cell_type": "code",
   "execution_count": 20,
   "metadata": {},
   "outputs": [
    {
     "data": {
      "text/plain": [
       "['tweet_id',\n",
       " 'in_reply_to_status_id',\n",
       " 'in_reply_to_user_id',\n",
       " 'timestamp',\n",
       " 'source',\n",
       " 'text',\n",
       " 'retweeted_status_id',\n",
       " 'retweeted_status_user_id',\n",
       " 'retweeted_status_timestamp',\n",
       " 'expanded_urls',\n",
       " 'rating_numerator',\n",
       " 'rating_denominator',\n",
       " 'name',\n",
       " 'doggo',\n",
       " 'floofer',\n",
       " 'pupper',\n",
       " 'puppo']"
      ]
     },
     "execution_count": 20,
     "metadata": {},
     "output_type": "execute_result"
    }
   ],
   "source": [
    "list(archive)"
   ]
  },
  {
   "cell_type": "code",
   "execution_count": 21,
   "metadata": {},
   "outputs": [
    {
     "data": {
      "text/html": [
       "<div>\n",
       "<style scoped>\n",
       "    .dataframe tbody tr th:only-of-type {\n",
       "        vertical-align: middle;\n",
       "    }\n",
       "\n",
       "    .dataframe tbody tr th {\n",
       "        vertical-align: top;\n",
       "    }\n",
       "\n",
       "    .dataframe thead th {\n",
       "        text-align: right;\n",
       "    }\n",
       "</style>\n",
       "<table border=\"1\" class=\"dataframe\">\n",
       "  <thead>\n",
       "    <tr style=\"text-align: right;\">\n",
       "      <th></th>\n",
       "      <th>tweet_id</th>\n",
       "      <th>in_reply_to_status_id</th>\n",
       "      <th>in_reply_to_user_id</th>\n",
       "      <th>timestamp</th>\n",
       "      <th>source</th>\n",
       "      <th>text</th>\n",
       "      <th>retweeted_status_id</th>\n",
       "      <th>retweeted_status_user_id</th>\n",
       "      <th>retweeted_status_timestamp</th>\n",
       "      <th>expanded_urls</th>\n",
       "      <th>rating_numerator</th>\n",
       "      <th>rating_denominator</th>\n",
       "      <th>name</th>\n",
       "      <th>doggo</th>\n",
       "      <th>floofer</th>\n",
       "      <th>pupper</th>\n",
       "      <th>puppo</th>\n",
       "    </tr>\n",
       "  </thead>\n",
       "  <tbody>\n",
       "    <tr>\n",
       "      <th>30</th>\n",
       "      <td>886267009285017600</td>\n",
       "      <td>8.862664e+17</td>\n",
       "      <td>2.281182e+09</td>\n",
       "      <td>2017-07-15 16:51:35 +0000</td>\n",
       "      <td>&lt;a href=\"http://twitter.com/download/iphone\" r...</td>\n",
       "      <td>@NonWhiteHat @MayhewMayhem omg hello tanner yo...</td>\n",
       "      <td>NaN</td>\n",
       "      <td>NaN</td>\n",
       "      <td>NaN</td>\n",
       "      <td>NaN</td>\n",
       "      <td>12</td>\n",
       "      <td>10</td>\n",
       "      <td>None</td>\n",
       "      <td>None</td>\n",
       "      <td>None</td>\n",
       "      <td>None</td>\n",
       "      <td>None</td>\n",
       "    </tr>\n",
       "    <tr>\n",
       "      <th>55</th>\n",
       "      <td>881633300179243008</td>\n",
       "      <td>8.816070e+17</td>\n",
       "      <td>4.738443e+07</td>\n",
       "      <td>2017-07-02 21:58:53 +0000</td>\n",
       "      <td>&lt;a href=\"http://twitter.com/download/iphone\" r...</td>\n",
       "      <td>@roushfenway These are good dogs but 17/10 is ...</td>\n",
       "      <td>NaN</td>\n",
       "      <td>NaN</td>\n",
       "      <td>NaN</td>\n",
       "      <td>NaN</td>\n",
       "      <td>17</td>\n",
       "      <td>10</td>\n",
       "      <td>None</td>\n",
       "      <td>None</td>\n",
       "      <td>None</td>\n",
       "      <td>None</td>\n",
       "      <td>None</td>\n",
       "    </tr>\n",
       "    <tr>\n",
       "      <th>64</th>\n",
       "      <td>879674319642796034</td>\n",
       "      <td>8.795538e+17</td>\n",
       "      <td>3.105441e+09</td>\n",
       "      <td>2017-06-27 12:14:36 +0000</td>\n",
       "      <td>&lt;a href=\"http://twitter.com/download/iphone\" r...</td>\n",
       "      <td>@RealKentMurphy 14/10 confirmed</td>\n",
       "      <td>NaN</td>\n",
       "      <td>NaN</td>\n",
       "      <td>NaN</td>\n",
       "      <td>NaN</td>\n",
       "      <td>14</td>\n",
       "      <td>10</td>\n",
       "      <td>None</td>\n",
       "      <td>None</td>\n",
       "      <td>None</td>\n",
       "      <td>None</td>\n",
       "      <td>None</td>\n",
       "    </tr>\n",
       "    <tr>\n",
       "      <th>113</th>\n",
       "      <td>870726314365509632</td>\n",
       "      <td>8.707262e+17</td>\n",
       "      <td>1.648776e+07</td>\n",
       "      <td>2017-06-02 19:38:25 +0000</td>\n",
       "      <td>&lt;a href=\"http://twitter.com/download/iphone\" r...</td>\n",
       "      <td>@ComplicitOwl @ShopWeRateDogs &amp;gt;10/10 is res...</td>\n",
       "      <td>NaN</td>\n",
       "      <td>NaN</td>\n",
       "      <td>NaN</td>\n",
       "      <td>NaN</td>\n",
       "      <td>10</td>\n",
       "      <td>10</td>\n",
       "      <td>None</td>\n",
       "      <td>None</td>\n",
       "      <td>None</td>\n",
       "      <td>None</td>\n",
       "      <td>None</td>\n",
       "    </tr>\n",
       "    <tr>\n",
       "      <th>148</th>\n",
       "      <td>863427515083354112</td>\n",
       "      <td>8.634256e+17</td>\n",
       "      <td>7.759620e+07</td>\n",
       "      <td>2017-05-13 16:15:35 +0000</td>\n",
       "      <td>&lt;a href=\"http://twitter.com/download/iphone\" r...</td>\n",
       "      <td>@Jack_Septic_Eye I'd need a few more pics to p...</td>\n",
       "      <td>NaN</td>\n",
       "      <td>NaN</td>\n",
       "      <td>NaN</td>\n",
       "      <td>NaN</td>\n",
       "      <td>12</td>\n",
       "      <td>10</td>\n",
       "      <td>None</td>\n",
       "      <td>None</td>\n",
       "      <td>None</td>\n",
       "      <td>None</td>\n",
       "      <td>None</td>\n",
       "    </tr>\n",
       "    <tr>\n",
       "      <th>179</th>\n",
       "      <td>857214891891077121</td>\n",
       "      <td>8.571567e+17</td>\n",
       "      <td>1.806710e+08</td>\n",
       "      <td>2017-04-26 12:48:51 +0000</td>\n",
       "      <td>&lt;a href=\"http://twitter.com/download/iphone\" r...</td>\n",
       "      <td>@Marc_IRL pixelated af 12/10</td>\n",
       "      <td>NaN</td>\n",
       "      <td>NaN</td>\n",
       "      <td>NaN</td>\n",
       "      <td>NaN</td>\n",
       "      <td>12</td>\n",
       "      <td>10</td>\n",
       "      <td>None</td>\n",
       "      <td>None</td>\n",
       "      <td>None</td>\n",
       "      <td>None</td>\n",
       "      <td>None</td>\n",
       "    </tr>\n",
       "    <tr>\n",
       "      <th>185</th>\n",
       "      <td>856330835276025856</td>\n",
       "      <td>NaN</td>\n",
       "      <td>NaN</td>\n",
       "      <td>2017-04-24 02:15:55 +0000</td>\n",
       "      <td>&lt;a href=\"http://twitter.com/download/iphone\" r...</td>\n",
       "      <td>RT @Jenna_Marbles: @dog_rates Thanks for ratin...</td>\n",
       "      <td>8.563302e+17</td>\n",
       "      <td>66699013.0</td>\n",
       "      <td>2017-04-24 02:13:14 +0000</td>\n",
       "      <td>NaN</td>\n",
       "      <td>14</td>\n",
       "      <td>10</td>\n",
       "      <td>None</td>\n",
       "      <td>None</td>\n",
       "      <td>None</td>\n",
       "      <td>None</td>\n",
       "      <td>None</td>\n",
       "    </tr>\n",
       "    <tr>\n",
       "      <th>186</th>\n",
       "      <td>856288084350160898</td>\n",
       "      <td>8.562860e+17</td>\n",
       "      <td>2.792810e+08</td>\n",
       "      <td>2017-04-23 23:26:03 +0000</td>\n",
       "      <td>&lt;a href=\"http://twitter.com/download/iphone\" r...</td>\n",
       "      <td>@xianmcguire @Jenna_Marbles Kardashians wouldn...</td>\n",
       "      <td>NaN</td>\n",
       "      <td>NaN</td>\n",
       "      <td>NaN</td>\n",
       "      <td>NaN</td>\n",
       "      <td>14</td>\n",
       "      <td>10</td>\n",
       "      <td>None</td>\n",
       "      <td>None</td>\n",
       "      <td>None</td>\n",
       "      <td>None</td>\n",
       "      <td>None</td>\n",
       "    </tr>\n",
       "    <tr>\n",
       "      <th>188</th>\n",
       "      <td>855862651834028034</td>\n",
       "      <td>8.558616e+17</td>\n",
       "      <td>1.943518e+08</td>\n",
       "      <td>2017-04-22 19:15:32 +0000</td>\n",
       "      <td>&lt;a href=\"http://twitter.com/download/iphone\" r...</td>\n",
       "      <td>@dhmontgomery We also gave snoop dogg a 420/10...</td>\n",
       "      <td>NaN</td>\n",
       "      <td>NaN</td>\n",
       "      <td>NaN</td>\n",
       "      <td>NaN</td>\n",
       "      <td>420</td>\n",
       "      <td>10</td>\n",
       "      <td>None</td>\n",
       "      <td>None</td>\n",
       "      <td>None</td>\n",
       "      <td>None</td>\n",
       "      <td>None</td>\n",
       "    </tr>\n",
       "    <tr>\n",
       "      <th>189</th>\n",
       "      <td>855860136149123072</td>\n",
       "      <td>8.558585e+17</td>\n",
       "      <td>1.361572e+07</td>\n",
       "      <td>2017-04-22 19:05:32 +0000</td>\n",
       "      <td>&lt;a href=\"http://twitter.com/download/iphone\" r...</td>\n",
       "      <td>@s8n You tried very hard to portray this good ...</td>\n",
       "      <td>NaN</td>\n",
       "      <td>NaN</td>\n",
       "      <td>NaN</td>\n",
       "      <td>NaN</td>\n",
       "      <td>666</td>\n",
       "      <td>10</td>\n",
       "      <td>None</td>\n",
       "      <td>None</td>\n",
       "      <td>None</td>\n",
       "      <td>None</td>\n",
       "      <td>None</td>\n",
       "    </tr>\n",
       "    <tr>\n",
       "      <th>218</th>\n",
       "      <td>850333567704068097</td>\n",
       "      <td>8.503288e+17</td>\n",
       "      <td>2.195506e+07</td>\n",
       "      <td>2017-04-07 13:04:55 +0000</td>\n",
       "      <td>&lt;a href=\"http://twitter.com/download/iphone\" r...</td>\n",
       "      <td>@markhoppus MARK THAT DOG HAS SEEN AND EXPERIE...</td>\n",
       "      <td>NaN</td>\n",
       "      <td>NaN</td>\n",
       "      <td>NaN</td>\n",
       "      <td>NaN</td>\n",
       "      <td>13</td>\n",
       "      <td>10</td>\n",
       "      <td>None</td>\n",
       "      <td>None</td>\n",
       "      <td>None</td>\n",
       "      <td>None</td>\n",
       "      <td>None</td>\n",
       "    </tr>\n",
       "    <tr>\n",
       "      <th>228</th>\n",
       "      <td>848213670039564288</td>\n",
       "      <td>8.482121e+17</td>\n",
       "      <td>4.196984e+09</td>\n",
       "      <td>2017-04-01 16:41:12 +0000</td>\n",
       "      <td>&lt;a href=\"http://twitter.com/download/iphone\" r...</td>\n",
       "      <td>Jerry just apuppologized to me. He said there ...</td>\n",
       "      <td>NaN</td>\n",
       "      <td>NaN</td>\n",
       "      <td>NaN</td>\n",
       "      <td>NaN</td>\n",
       "      <td>11</td>\n",
       "      <td>10</td>\n",
       "      <td>None</td>\n",
       "      <td>None</td>\n",
       "      <td>None</td>\n",
       "      <td>None</td>\n",
       "      <td>None</td>\n",
       "    </tr>\n",
       "    <tr>\n",
       "      <th>234</th>\n",
       "      <td>847617282490613760</td>\n",
       "      <td>8.476062e+17</td>\n",
       "      <td>4.196984e+09</td>\n",
       "      <td>2017-03-31 01:11:22 +0000</td>\n",
       "      <td>&lt;a href=\"http://twitter.com/download/iphone\" r...</td>\n",
       "      <td>.@breaannanicolee PUPDATE: Cannon has a heart ...</td>\n",
       "      <td>NaN</td>\n",
       "      <td>NaN</td>\n",
       "      <td>NaN</td>\n",
       "      <td>NaN</td>\n",
       "      <td>13</td>\n",
       "      <td>10</td>\n",
       "      <td>None</td>\n",
       "      <td>None</td>\n",
       "      <td>None</td>\n",
       "      <td>None</td>\n",
       "      <td>None</td>\n",
       "    </tr>\n",
       "    <tr>\n",
       "      <th>274</th>\n",
       "      <td>840698636975636481</td>\n",
       "      <td>8.406983e+17</td>\n",
       "      <td>8.405479e+17</td>\n",
       "      <td>2017-03-11 22:59:09 +0000</td>\n",
       "      <td>&lt;a href=\"http://twitter.com/download/iphone\" r...</td>\n",
       "      <td>@0_kelvin_0 &amp;gt;10/10 is reserved for puppos s...</td>\n",
       "      <td>NaN</td>\n",
       "      <td>NaN</td>\n",
       "      <td>NaN</td>\n",
       "      <td>NaN</td>\n",
       "      <td>10</td>\n",
       "      <td>10</td>\n",
       "      <td>None</td>\n",
       "      <td>None</td>\n",
       "      <td>None</td>\n",
       "      <td>None</td>\n",
       "      <td>None</td>\n",
       "    </tr>\n",
       "    <tr>\n",
       "      <th>290</th>\n",
       "      <td>838150277551247360</td>\n",
       "      <td>8.381455e+17</td>\n",
       "      <td>2.195506e+07</td>\n",
       "      <td>2017-03-04 22:12:52 +0000</td>\n",
       "      <td>&lt;a href=\"http://twitter.com/download/iphone\" r...</td>\n",
       "      <td>@markhoppus 182/10</td>\n",
       "      <td>NaN</td>\n",
       "      <td>NaN</td>\n",
       "      <td>NaN</td>\n",
       "      <td>NaN</td>\n",
       "      <td>182</td>\n",
       "      <td>10</td>\n",
       "      <td>None</td>\n",
       "      <td>None</td>\n",
       "      <td>None</td>\n",
       "      <td>None</td>\n",
       "      <td>None</td>\n",
       "    </tr>\n",
       "    <tr>\n",
       "      <th>291</th>\n",
       "      <td>838085839343206401</td>\n",
       "      <td>8.380855e+17</td>\n",
       "      <td>2.894131e+09</td>\n",
       "      <td>2017-03-04 17:56:49 +0000</td>\n",
       "      <td>&lt;a href=\"http://twitter.com/download/iphone\" r...</td>\n",
       "      <td>@bragg6of8 @Andy_Pace_ we are still looking fo...</td>\n",
       "      <td>NaN</td>\n",
       "      <td>NaN</td>\n",
       "      <td>NaN</td>\n",
       "      <td>NaN</td>\n",
       "      <td>15</td>\n",
       "      <td>10</td>\n",
       "      <td>None</td>\n",
       "      <td>None</td>\n",
       "      <td>None</td>\n",
       "      <td>None</td>\n",
       "      <td>None</td>\n",
       "    </tr>\n",
       "    <tr>\n",
       "      <th>313</th>\n",
       "      <td>835246439529840640</td>\n",
       "      <td>8.352460e+17</td>\n",
       "      <td>2.625958e+07</td>\n",
       "      <td>2017-02-24 21:54:03 +0000</td>\n",
       "      <td>&lt;a href=\"http://twitter.com/download/iphone\" r...</td>\n",
       "      <td>@jonnysun @Lin_Manuel ok jomny I know you're e...</td>\n",
       "      <td>NaN</td>\n",
       "      <td>NaN</td>\n",
       "      <td>NaN</td>\n",
       "      <td>NaN</td>\n",
       "      <td>960</td>\n",
       "      <td>0</td>\n",
       "      <td>None</td>\n",
       "      <td>None</td>\n",
       "      <td>None</td>\n",
       "      <td>None</td>\n",
       "      <td>None</td>\n",
       "    </tr>\n",
       "    <tr>\n",
       "      <th>342</th>\n",
       "      <td>832088576586297345</td>\n",
       "      <td>8.320875e+17</td>\n",
       "      <td>3.058208e+07</td>\n",
       "      <td>2017-02-16 04:45:50 +0000</td>\n",
       "      <td>&lt;a href=\"http://twitter.com/download/iphone\" r...</td>\n",
       "      <td>@docmisterio account started on 11/15/15</td>\n",
       "      <td>NaN</td>\n",
       "      <td>NaN</td>\n",
       "      <td>NaN</td>\n",
       "      <td>NaN</td>\n",
       "      <td>11</td>\n",
       "      <td>15</td>\n",
       "      <td>None</td>\n",
       "      <td>None</td>\n",
       "      <td>None</td>\n",
       "      <td>None</td>\n",
       "      <td>None</td>\n",
       "    </tr>\n",
       "    <tr>\n",
       "      <th>346</th>\n",
       "      <td>831926988323639298</td>\n",
       "      <td>8.319030e+17</td>\n",
       "      <td>2.068372e+07</td>\n",
       "      <td>2017-02-15 18:03:45 +0000</td>\n",
       "      <td>&lt;a href=\"http://twitter.com/download/iphone\" r...</td>\n",
       "      <td>@UNC can confirm 12/10</td>\n",
       "      <td>NaN</td>\n",
       "      <td>NaN</td>\n",
       "      <td>NaN</td>\n",
       "      <td>NaN</td>\n",
       "      <td>12</td>\n",
       "      <td>10</td>\n",
       "      <td>None</td>\n",
       "      <td>None</td>\n",
       "      <td>None</td>\n",
       "      <td>None</td>\n",
       "      <td>None</td>\n",
       "    </tr>\n",
       "    <tr>\n",
       "      <th>375</th>\n",
       "      <td>828361771580813312</td>\n",
       "      <td>NaN</td>\n",
       "      <td>NaN</td>\n",
       "      <td>2017-02-05 21:56:51 +0000</td>\n",
       "      <td>&lt;a href=\"http://twitter.com\" rel=\"nofollow\"&gt;Tw...</td>\n",
       "      <td>Beebop and Doobert should start a band 12/10 w...</td>\n",
       "      <td>NaN</td>\n",
       "      <td>NaN</td>\n",
       "      <td>NaN</td>\n",
       "      <td>NaN</td>\n",
       "      <td>12</td>\n",
       "      <td>10</td>\n",
       "      <td>None</td>\n",
       "      <td>None</td>\n",
       "      <td>None</td>\n",
       "      <td>None</td>\n",
       "      <td>None</td>\n",
       "    </tr>\n",
       "    <tr>\n",
       "      <th>387</th>\n",
       "      <td>826598799820865537</td>\n",
       "      <td>8.265984e+17</td>\n",
       "      <td>4.196984e+09</td>\n",
       "      <td>2017-02-01 01:11:25 +0000</td>\n",
       "      <td>&lt;a href=\"http://twitter.com/download/iphone\" r...</td>\n",
       "      <td>I was going to do 007/10, but the joke wasn't ...</td>\n",
       "      <td>NaN</td>\n",
       "      <td>NaN</td>\n",
       "      <td>NaN</td>\n",
       "      <td>NaN</td>\n",
       "      <td>7</td>\n",
       "      <td>10</td>\n",
       "      <td>None</td>\n",
       "      <td>None</td>\n",
       "      <td>None</td>\n",
       "      <td>None</td>\n",
       "      <td>None</td>\n",
       "    </tr>\n",
       "    <tr>\n",
       "      <th>409</th>\n",
       "      <td>823333489516937216</td>\n",
       "      <td>8.233264e+17</td>\n",
       "      <td>1.582854e+09</td>\n",
       "      <td>2017-01-23 00:56:15 +0000</td>\n",
       "      <td>&lt;a href=\"http://twitter.com/download/iphone\" r...</td>\n",
       "      <td>@HistoryInPics 13/10</td>\n",
       "      <td>NaN</td>\n",
       "      <td>NaN</td>\n",
       "      <td>NaN</td>\n",
       "      <td>NaN</td>\n",
       "      <td>13</td>\n",
       "      <td>10</td>\n",
       "      <td>None</td>\n",
       "      <td>None</td>\n",
       "      <td>None</td>\n",
       "      <td>None</td>\n",
       "      <td>None</td>\n",
       "    </tr>\n",
       "    <tr>\n",
       "      <th>427</th>\n",
       "      <td>821153421864615936</td>\n",
       "      <td>8.211526e+17</td>\n",
       "      <td>1.132119e+08</td>\n",
       "      <td>2017-01-17 00:33:26 +0000</td>\n",
       "      <td>&lt;a href=\"http://twitter.com/download/iphone\" r...</td>\n",
       "      <td>@imgur for a polar bear tho I'd say 13/10 is a...</td>\n",
       "      <td>NaN</td>\n",
       "      <td>NaN</td>\n",
       "      <td>NaN</td>\n",
       "      <td>NaN</td>\n",
       "      <td>13</td>\n",
       "      <td>10</td>\n",
       "      <td>None</td>\n",
       "      <td>None</td>\n",
       "      <td>None</td>\n",
       "      <td>None</td>\n",
       "      <td>None</td>\n",
       "    </tr>\n",
       "    <tr>\n",
       "      <th>498</th>\n",
       "      <td>813130366689148928</td>\n",
       "      <td>8.131273e+17</td>\n",
       "      <td>4.196984e+09</td>\n",
       "      <td>2016-12-25 21:12:41 +0000</td>\n",
       "      <td>&lt;a href=\"http://twitter.com/download/iphone\" r...</td>\n",
       "      <td>I've been informed by multiple sources that th...</td>\n",
       "      <td>NaN</td>\n",
       "      <td>NaN</td>\n",
       "      <td>NaN</td>\n",
       "      <td>NaN</td>\n",
       "      <td>12</td>\n",
       "      <td>10</td>\n",
       "      <td>None</td>\n",
       "      <td>None</td>\n",
       "      <td>None</td>\n",
       "      <td>None</td>\n",
       "      <td>None</td>\n",
       "    </tr>\n",
       "    <tr>\n",
       "      <th>513</th>\n",
       "      <td>811647686436880384</td>\n",
       "      <td>8.116272e+17</td>\n",
       "      <td>4.196984e+09</td>\n",
       "      <td>2016-12-21 19:01:02 +0000</td>\n",
       "      <td>&lt;a href=\"http://twitter.com/download/iphone\" r...</td>\n",
       "      <td>PUPDATE: I've been informed that Augie was act...</td>\n",
       "      <td>NaN</td>\n",
       "      <td>NaN</td>\n",
       "      <td>NaN</td>\n",
       "      <td>NaN</td>\n",
       "      <td>11</td>\n",
       "      <td>10</td>\n",
       "      <td>None</td>\n",
       "      <td>None</td>\n",
       "      <td>None</td>\n",
       "      <td>None</td>\n",
       "      <td>None</td>\n",
       "    </tr>\n",
       "    <tr>\n",
       "      <th>570</th>\n",
       "      <td>801854953262350336</td>\n",
       "      <td>8.018543e+17</td>\n",
       "      <td>1.185634e+07</td>\n",
       "      <td>2016-11-24 18:28:13 +0000</td>\n",
       "      <td>&lt;a href=\"http://twitter.com/download/iphone\" r...</td>\n",
       "      <td>.@NBCSports OMG THE TINY HAT I'M GOING TO HAVE...</td>\n",
       "      <td>NaN</td>\n",
       "      <td>NaN</td>\n",
       "      <td>NaN</td>\n",
       "      <td>NaN</td>\n",
       "      <td>11</td>\n",
       "      <td>10</td>\n",
       "      <td>None</td>\n",
       "      <td>None</td>\n",
       "      <td>None</td>\n",
       "      <td>None</td>\n",
       "      <td>None</td>\n",
       "    </tr>\n",
       "    <tr>\n",
       "      <th>576</th>\n",
       "      <td>800859414831898624</td>\n",
       "      <td>8.008580e+17</td>\n",
       "      <td>2.918590e+08</td>\n",
       "      <td>2016-11-22 00:32:18 +0000</td>\n",
       "      <td>&lt;a href=\"http://twitter.com/download/iphone\" r...</td>\n",
       "      <td>@SkyWilliams doggo simply protecting you from ...</td>\n",
       "      <td>NaN</td>\n",
       "      <td>NaN</td>\n",
       "      <td>NaN</td>\n",
       "      <td>NaN</td>\n",
       "      <td>11</td>\n",
       "      <td>10</td>\n",
       "      <td>None</td>\n",
       "      <td>doggo</td>\n",
       "      <td>None</td>\n",
       "      <td>None</td>\n",
       "      <td>None</td>\n",
       "    </tr>\n",
       "    <tr>\n",
       "      <th>611</th>\n",
       "      <td>797165961484890113</td>\n",
       "      <td>7.971238e+17</td>\n",
       "      <td>2.916630e+07</td>\n",
       "      <td>2016-11-11 19:55:50 +0000</td>\n",
       "      <td>&lt;a href=\"http://twitter.com/download/iphone\" r...</td>\n",
       "      <td>@JODYHiGHROLLER it may be an 11/10 but what do...</td>\n",
       "      <td>NaN</td>\n",
       "      <td>NaN</td>\n",
       "      <td>NaN</td>\n",
       "      <td>NaN</td>\n",
       "      <td>11</td>\n",
       "      <td>10</td>\n",
       "      <td>None</td>\n",
       "      <td>None</td>\n",
       "      <td>None</td>\n",
       "      <td>None</td>\n",
       "      <td>None</td>\n",
       "    </tr>\n",
       "    <tr>\n",
       "      <th>701</th>\n",
       "      <td>786051337297522688</td>\n",
       "      <td>7.727430e+17</td>\n",
       "      <td>7.305050e+17</td>\n",
       "      <td>2016-10-12 03:50:17 +0000</td>\n",
       "      <td>&lt;a href=\"http://twitter.com/download/iphone\" r...</td>\n",
       "      <td>13/10 for breakdancing puppo @shibbnbot</td>\n",
       "      <td>NaN</td>\n",
       "      <td>NaN</td>\n",
       "      <td>NaN</td>\n",
       "      <td>NaN</td>\n",
       "      <td>13</td>\n",
       "      <td>10</td>\n",
       "      <td>None</td>\n",
       "      <td>None</td>\n",
       "      <td>None</td>\n",
       "      <td>None</td>\n",
       "      <td>puppo</td>\n",
       "    </tr>\n",
       "    <tr>\n",
       "      <th>707</th>\n",
       "      <td>785515384317313025</td>\n",
       "      <td>NaN</td>\n",
       "      <td>NaN</td>\n",
       "      <td>2016-10-10 16:20:36 +0000</td>\n",
       "      <td>&lt;a href=\"http://twitter.com/download/iphone\" r...</td>\n",
       "      <td>Today, 10/10, should be National Dog Rates Day</td>\n",
       "      <td>NaN</td>\n",
       "      <td>NaN</td>\n",
       "      <td>NaN</td>\n",
       "      <td>NaN</td>\n",
       "      <td>10</td>\n",
       "      <td>10</td>\n",
       "      <td>None</td>\n",
       "      <td>None</td>\n",
       "      <td>None</td>\n",
       "      <td>None</td>\n",
       "      <td>None</td>\n",
       "    </tr>\n",
       "    <tr>\n",
       "      <th>843</th>\n",
       "      <td>766714921925144576</td>\n",
       "      <td>7.667118e+17</td>\n",
       "      <td>4.196984e+09</td>\n",
       "      <td>2016-08-19 19:14:16 +0000</td>\n",
       "      <td>&lt;a href=\"http://twitter.com/download/iphone\" r...</td>\n",
       "      <td>His name is Charley and he already has a new s...</td>\n",
       "      <td>NaN</td>\n",
       "      <td>NaN</td>\n",
       "      <td>NaN</td>\n",
       "      <td>NaN</td>\n",
       "      <td>13</td>\n",
       "      <td>10</td>\n",
       "      <td>None</td>\n",
       "      <td>None</td>\n",
       "      <td>None</td>\n",
       "      <td>None</td>\n",
       "      <td>None</td>\n",
       "    </tr>\n",
       "    <tr>\n",
       "      <th>857</th>\n",
       "      <td>763956972077010945</td>\n",
       "      <td>7.638652e+17</td>\n",
       "      <td>1.584641e+07</td>\n",
       "      <td>2016-08-12 04:35:10 +0000</td>\n",
       "      <td>&lt;a href=\"http://twitter.com/download/iphone\" r...</td>\n",
       "      <td>@TheEllenShow I'm not sure if you know this bu...</td>\n",
       "      <td>NaN</td>\n",
       "      <td>NaN</td>\n",
       "      <td>NaN</td>\n",
       "      <td>NaN</td>\n",
       "      <td>12</td>\n",
       "      <td>10</td>\n",
       "      <td>None</td>\n",
       "      <td>doggo</td>\n",
       "      <td>None</td>\n",
       "      <td>None</td>\n",
       "      <td>None</td>\n",
       "    </tr>\n",
       "    <tr>\n",
       "      <th>967</th>\n",
       "      <td>750381685133418496</td>\n",
       "      <td>7.501805e+17</td>\n",
       "      <td>4.717297e+09</td>\n",
       "      <td>2016-07-05 17:31:49 +0000</td>\n",
       "      <td>&lt;a href=\"http://twitter.com/download/iphone\" r...</td>\n",
       "      <td>13/10 such a good doggo\\n@spaghemily</td>\n",
       "      <td>NaN</td>\n",
       "      <td>NaN</td>\n",
       "      <td>NaN</td>\n",
       "      <td>NaN</td>\n",
       "      <td>13</td>\n",
       "      <td>10</td>\n",
       "      <td>None</td>\n",
       "      <td>doggo</td>\n",
       "      <td>None</td>\n",
       "      <td>None</td>\n",
       "      <td>None</td>\n",
       "    </tr>\n",
       "    <tr>\n",
       "      <th>1005</th>\n",
       "      <td>747651430853525504</td>\n",
       "      <td>7.476487e+17</td>\n",
       "      <td>4.196984e+09</td>\n",
       "      <td>2016-06-28 04:42:46 +0000</td>\n",
       "      <td>&lt;a href=\"http://twitter.com/download/iphone\" r...</td>\n",
       "      <td>Other pupper asked not to have his identity sh...</td>\n",
       "      <td>NaN</td>\n",
       "      <td>NaN</td>\n",
       "      <td>NaN</td>\n",
       "      <td>NaN</td>\n",
       "      <td>12</td>\n",
       "      <td>10</td>\n",
       "      <td>None</td>\n",
       "      <td>None</td>\n",
       "      <td>None</td>\n",
       "      <td>pupper</td>\n",
       "      <td>None</td>\n",
       "    </tr>\n",
       "    <tr>\n",
       "      <th>1080</th>\n",
       "      <td>738891149612572673</td>\n",
       "      <td>7.384119e+17</td>\n",
       "      <td>3.589728e+08</td>\n",
       "      <td>2016-06-04 00:32:32 +0000</td>\n",
       "      <td>&lt;a href=\"http://twitter.com/download/iphone\" r...</td>\n",
       "      <td>@mount_alex3 13/10</td>\n",
       "      <td>NaN</td>\n",
       "      <td>NaN</td>\n",
       "      <td>NaN</td>\n",
       "      <td>NaN</td>\n",
       "      <td>13</td>\n",
       "      <td>10</td>\n",
       "      <td>None</td>\n",
       "      <td>None</td>\n",
       "      <td>None</td>\n",
       "      <td>None</td>\n",
       "      <td>None</td>\n",
       "    </tr>\n",
       "    <tr>\n",
       "      <th>1295</th>\n",
       "      <td>707983188426153984</td>\n",
       "      <td>7.079801e+17</td>\n",
       "      <td>2.319108e+09</td>\n",
       "      <td>2016-03-10 17:35:20 +0000</td>\n",
       "      <td>&lt;a href=\"http://twitter.com/download/iphone\" r...</td>\n",
       "      <td>@serial @MrRoles OH MY GOD I listened to all o...</td>\n",
       "      <td>NaN</td>\n",
       "      <td>NaN</td>\n",
       "      <td>NaN</td>\n",
       "      <td>NaN</td>\n",
       "      <td>12</td>\n",
       "      <td>10</td>\n",
       "      <td>None</td>\n",
       "      <td>None</td>\n",
       "      <td>None</td>\n",
       "      <td>None</td>\n",
       "      <td>None</td>\n",
       "    </tr>\n",
       "    <tr>\n",
       "      <th>1345</th>\n",
       "      <td>704491224099647488</td>\n",
       "      <td>7.044857e+17</td>\n",
       "      <td>2.878549e+07</td>\n",
       "      <td>2016-03-01 02:19:31 +0000</td>\n",
       "      <td>&lt;a href=\"http://twitter.com/download/iphone\" r...</td>\n",
       "      <td>13/10 hero af\\n@ABC</td>\n",
       "      <td>NaN</td>\n",
       "      <td>NaN</td>\n",
       "      <td>NaN</td>\n",
       "      <td>NaN</td>\n",
       "      <td>13</td>\n",
       "      <td>10</td>\n",
       "      <td>None</td>\n",
       "      <td>None</td>\n",
       "      <td>None</td>\n",
       "      <td>None</td>\n",
       "      <td>None</td>\n",
       "    </tr>\n",
       "    <tr>\n",
       "      <th>1445</th>\n",
       "      <td>696518437233913856</td>\n",
       "      <td>NaN</td>\n",
       "      <td>NaN</td>\n",
       "      <td>2016-02-08 02:18:30 +0000</td>\n",
       "      <td>&lt;a href=\"http://twitter.com/download/iphone\" r...</td>\n",
       "      <td>Oh my god 10/10 for every little hot dog pupper</td>\n",
       "      <td>NaN</td>\n",
       "      <td>NaN</td>\n",
       "      <td>NaN</td>\n",
       "      <td>NaN</td>\n",
       "      <td>10</td>\n",
       "      <td>10</td>\n",
       "      <td>None</td>\n",
       "      <td>None</td>\n",
       "      <td>None</td>\n",
       "      <td>pupper</td>\n",
       "      <td>None</td>\n",
       "    </tr>\n",
       "    <tr>\n",
       "      <th>1446</th>\n",
       "      <td>696490539101908992</td>\n",
       "      <td>6.964887e+17</td>\n",
       "      <td>4.196984e+09</td>\n",
       "      <td>2016-02-08 00:27:39 +0000</td>\n",
       "      <td>&lt;a href=\"http://twitter.com/download/iphone\" r...</td>\n",
       "      <td>After reading the comments I may have overesti...</td>\n",
       "      <td>NaN</td>\n",
       "      <td>NaN</td>\n",
       "      <td>NaN</td>\n",
       "      <td>NaN</td>\n",
       "      <td>1</td>\n",
       "      <td>10</td>\n",
       "      <td>None</td>\n",
       "      <td>None</td>\n",
       "      <td>None</td>\n",
       "      <td>None</td>\n",
       "      <td>None</td>\n",
       "    </tr>\n",
       "    <tr>\n",
       "      <th>1474</th>\n",
       "      <td>693644216740769793</td>\n",
       "      <td>6.936422e+17</td>\n",
       "      <td>4.196984e+09</td>\n",
       "      <td>2016-01-31 03:57:23 +0000</td>\n",
       "      <td>&lt;a href=\"http://twitter.com/download/iphone\" r...</td>\n",
       "      <td>BREAKING PUPDATE: I've just been notified that...</td>\n",
       "      <td>NaN</td>\n",
       "      <td>NaN</td>\n",
       "      <td>NaN</td>\n",
       "      <td>NaN</td>\n",
       "      <td>10</td>\n",
       "      <td>10</td>\n",
       "      <td>None</td>\n",
       "      <td>None</td>\n",
       "      <td>None</td>\n",
       "      <td>None</td>\n",
       "      <td>None</td>\n",
       "    </tr>\n",
       "    <tr>\n",
       "      <th>1479</th>\n",
       "      <td>693582294167244802</td>\n",
       "      <td>6.935722e+17</td>\n",
       "      <td>1.198989e+09</td>\n",
       "      <td>2016-01-30 23:51:19 +0000</td>\n",
       "      <td>&lt;a href=\"http://twitter.com/download/iphone\" r...</td>\n",
       "      <td>Personally I'd give him an 11/10. Not sure why...</td>\n",
       "      <td>NaN</td>\n",
       "      <td>NaN</td>\n",
       "      <td>NaN</td>\n",
       "      <td>NaN</td>\n",
       "      <td>11</td>\n",
       "      <td>10</td>\n",
       "      <td>None</td>\n",
       "      <td>None</td>\n",
       "      <td>None</td>\n",
       "      <td>None</td>\n",
       "      <td>None</td>\n",
       "    </tr>\n",
       "    <tr>\n",
       "      <th>1497</th>\n",
       "      <td>692423280028966913</td>\n",
       "      <td>6.924173e+17</td>\n",
       "      <td>4.196984e+09</td>\n",
       "      <td>2016-01-27 19:05:49 +0000</td>\n",
       "      <td>&lt;a href=\"http://twitter.com/download/iphone\" r...</td>\n",
       "      <td>PUPDATE: just noticed this dog has some extra ...</td>\n",
       "      <td>NaN</td>\n",
       "      <td>NaN</td>\n",
       "      <td>NaN</td>\n",
       "      <td>NaN</td>\n",
       "      <td>9</td>\n",
       "      <td>10</td>\n",
       "      <td>None</td>\n",
       "      <td>None</td>\n",
       "      <td>None</td>\n",
       "      <td>None</td>\n",
       "      <td>None</td>\n",
       "    </tr>\n",
       "    <tr>\n",
       "      <th>1523</th>\n",
       "      <td>690607260360429569</td>\n",
       "      <td>6.903413e+17</td>\n",
       "      <td>4.670367e+08</td>\n",
       "      <td>2016-01-22 18:49:36 +0000</td>\n",
       "      <td>&lt;a href=\"http://twitter.com/download/iphone\" r...</td>\n",
       "      <td>12/10 @LightningHoltt</td>\n",
       "      <td>NaN</td>\n",
       "      <td>NaN</td>\n",
       "      <td>NaN</td>\n",
       "      <td>NaN</td>\n",
       "      <td>12</td>\n",
       "      <td>10</td>\n",
       "      <td>None</td>\n",
       "      <td>None</td>\n",
       "      <td>None</td>\n",
       "      <td>None</td>\n",
       "      <td>None</td>\n",
       "    </tr>\n",
       "    <tr>\n",
       "      <th>1598</th>\n",
       "      <td>686035780142297088</td>\n",
       "      <td>6.860340e+17</td>\n",
       "      <td>4.196984e+09</td>\n",
       "      <td>2016-01-10 04:04:10 +0000</td>\n",
       "      <td>&lt;a href=\"http://twitter.com/download/iphone\" r...</td>\n",
       "      <td>Yes I do realize a rating of 4/20 would've bee...</td>\n",
       "      <td>NaN</td>\n",
       "      <td>NaN</td>\n",
       "      <td>NaN</td>\n",
       "      <td>NaN</td>\n",
       "      <td>4</td>\n",
       "      <td>20</td>\n",
       "      <td>None</td>\n",
       "      <td>None</td>\n",
       "      <td>None</td>\n",
       "      <td>None</td>\n",
       "      <td>None</td>\n",
       "    </tr>\n",
       "    <tr>\n",
       "      <th>1605</th>\n",
       "      <td>685681090388975616</td>\n",
       "      <td>6.855479e+17</td>\n",
       "      <td>4.196984e+09</td>\n",
       "      <td>2016-01-09 04:34:45 +0000</td>\n",
       "      <td>&lt;a href=\"http://twitter.com/download/iphone\" r...</td>\n",
       "      <td>Jack deserves another round of applause. If yo...</td>\n",
       "      <td>NaN</td>\n",
       "      <td>NaN</td>\n",
       "      <td>NaN</td>\n",
       "      <td>NaN</td>\n",
       "      <td>14</td>\n",
       "      <td>10</td>\n",
       "      <td>None</td>\n",
       "      <td>None</td>\n",
       "      <td>None</td>\n",
       "      <td>None</td>\n",
       "      <td>None</td>\n",
       "    </tr>\n",
       "    <tr>\n",
       "      <th>1618</th>\n",
       "      <td>684969860808454144</td>\n",
       "      <td>6.849598e+17</td>\n",
       "      <td>4.196984e+09</td>\n",
       "      <td>2016-01-07 05:28:35 +0000</td>\n",
       "      <td>&lt;a href=\"http://twitter.com/download/iphone\" r...</td>\n",
       "      <td>For those who claim this is a goat, u are wron...</td>\n",
       "      <td>NaN</td>\n",
       "      <td>NaN</td>\n",
       "      <td>NaN</td>\n",
       "      <td>NaN</td>\n",
       "      <td>5</td>\n",
       "      <td>10</td>\n",
       "      <td>None</td>\n",
       "      <td>None</td>\n",
       "      <td>None</td>\n",
       "      <td>None</td>\n",
       "      <td>None</td>\n",
       "    </tr>\n",
       "    <tr>\n",
       "      <th>1663</th>\n",
       "      <td>682808988178739200</td>\n",
       "      <td>6.827884e+17</td>\n",
       "      <td>4.196984e+09</td>\n",
       "      <td>2016-01-01 06:22:03 +0000</td>\n",
       "      <td>&lt;a href=\"http://twitter.com/download/iphone\" r...</td>\n",
       "      <td>I'm aware that I could've said 20/16, but here...</td>\n",
       "      <td>NaN</td>\n",
       "      <td>NaN</td>\n",
       "      <td>NaN</td>\n",
       "      <td>NaN</td>\n",
       "      <td>20</td>\n",
       "      <td>16</td>\n",
       "      <td>None</td>\n",
       "      <td>None</td>\n",
       "      <td>None</td>\n",
       "      <td>None</td>\n",
       "      <td>None</td>\n",
       "    </tr>\n",
       "    <tr>\n",
       "      <th>1689</th>\n",
       "      <td>681340665377193984</td>\n",
       "      <td>6.813394e+17</td>\n",
       "      <td>4.196984e+09</td>\n",
       "      <td>2015-12-28 05:07:27 +0000</td>\n",
       "      <td>&lt;a href=\"http://twitter.com/download/iphone\" r...</td>\n",
       "      <td>I've been told there's a slight possibility he...</td>\n",
       "      <td>NaN</td>\n",
       "      <td>NaN</td>\n",
       "      <td>NaN</td>\n",
       "      <td>NaN</td>\n",
       "      <td>5</td>\n",
       "      <td>10</td>\n",
       "      <td>None</td>\n",
       "      <td>None</td>\n",
       "      <td>None</td>\n",
       "      <td>None</td>\n",
       "      <td>None</td>\n",
       "    </tr>\n",
       "    <tr>\n",
       "      <th>1774</th>\n",
       "      <td>678023323247357953</td>\n",
       "      <td>6.780211e+17</td>\n",
       "      <td>4.196984e+09</td>\n",
       "      <td>2015-12-19 01:25:31 +0000</td>\n",
       "      <td>&lt;a href=\"http://twitter.com/download/iphone\" r...</td>\n",
       "      <td>After getting lost in Reese's eyes for several...</td>\n",
       "      <td>NaN</td>\n",
       "      <td>NaN</td>\n",
       "      <td>NaN</td>\n",
       "      <td>NaN</td>\n",
       "      <td>13</td>\n",
       "      <td>10</td>\n",
       "      <td>None</td>\n",
       "      <td>None</td>\n",
       "      <td>None</td>\n",
       "      <td>None</td>\n",
       "      <td>None</td>\n",
       "    </tr>\n",
       "    <tr>\n",
       "      <th>1819</th>\n",
       "      <td>676590572941893632</td>\n",
       "      <td>6.765883e+17</td>\n",
       "      <td>4.196984e+09</td>\n",
       "      <td>2015-12-15 02:32:17 +0000</td>\n",
       "      <td>&lt;a href=\"http://twitter.com/download/iphone\" r...</td>\n",
       "      <td>After some outrage from the crowd. Bubbles is ...</td>\n",
       "      <td>NaN</td>\n",
       "      <td>NaN</td>\n",
       "      <td>NaN</td>\n",
       "      <td>NaN</td>\n",
       "      <td>7</td>\n",
       "      <td>10</td>\n",
       "      <td>None</td>\n",
       "      <td>None</td>\n",
       "      <td>None</td>\n",
       "      <td>None</td>\n",
       "      <td>None</td>\n",
       "    </tr>\n",
       "    <tr>\n",
       "      <th>1844</th>\n",
       "      <td>675849018447167488</td>\n",
       "      <td>6.758457e+17</td>\n",
       "      <td>4.196984e+09</td>\n",
       "      <td>2015-12-13 01:25:37 +0000</td>\n",
       "      <td>&lt;a href=\"http://twitter.com/download/iphone\" r...</td>\n",
       "      <td>This dog is being demoted to a 9/10 for not we...</td>\n",
       "      <td>NaN</td>\n",
       "      <td>NaN</td>\n",
       "      <td>NaN</td>\n",
       "      <td>NaN</td>\n",
       "      <td>9</td>\n",
       "      <td>10</td>\n",
       "      <td>None</td>\n",
       "      <td>None</td>\n",
       "      <td>None</td>\n",
       "      <td>None</td>\n",
       "      <td>None</td>\n",
       "    </tr>\n",
       "    <tr>\n",
       "      <th>1895</th>\n",
       "      <td>674742531037511680</td>\n",
       "      <td>6.747400e+17</td>\n",
       "      <td>4.196984e+09</td>\n",
       "      <td>2015-12-10 00:08:50 +0000</td>\n",
       "      <td>&lt;a href=\"http://twitter.com/download/iphone\" r...</td>\n",
       "      <td>Some clarification is required. The dog is sin...</td>\n",
       "      <td>NaN</td>\n",
       "      <td>NaN</td>\n",
       "      <td>NaN</td>\n",
       "      <td>NaN</td>\n",
       "      <td>11</td>\n",
       "      <td>10</td>\n",
       "      <td>None</td>\n",
       "      <td>None</td>\n",
       "      <td>None</td>\n",
       "      <td>None</td>\n",
       "      <td>None</td>\n",
       "    </tr>\n",
       "    <tr>\n",
       "      <th>1905</th>\n",
       "      <td>674606911342424069</td>\n",
       "      <td>6.744689e+17</td>\n",
       "      <td>4.196984e+09</td>\n",
       "      <td>2015-12-09 15:09:55 +0000</td>\n",
       "      <td>&lt;a href=\"http://twitter.com/download/iphone\" r...</td>\n",
       "      <td>The 13/10 also takes into account this impecca...</td>\n",
       "      <td>NaN</td>\n",
       "      <td>NaN</td>\n",
       "      <td>NaN</td>\n",
       "      <td>NaN</td>\n",
       "      <td>13</td>\n",
       "      <td>10</td>\n",
       "      <td>None</td>\n",
       "      <td>None</td>\n",
       "      <td>None</td>\n",
       "      <td>None</td>\n",
       "      <td>None</td>\n",
       "    </tr>\n",
       "    <tr>\n",
       "      <th>1914</th>\n",
       "      <td>674330906434379776</td>\n",
       "      <td>6.658147e+17</td>\n",
       "      <td>1.637468e+07</td>\n",
       "      <td>2015-12-08 20:53:11 +0000</td>\n",
       "      <td>&lt;a href=\"http://twitter.com/download/iphone\" r...</td>\n",
       "      <td>13/10\\n@ABC7</td>\n",
       "      <td>NaN</td>\n",
       "      <td>NaN</td>\n",
       "      <td>NaN</td>\n",
       "      <td>NaN</td>\n",
       "      <td>13</td>\n",
       "      <td>10</td>\n",
       "      <td>None</td>\n",
       "      <td>None</td>\n",
       "      <td>None</td>\n",
       "      <td>None</td>\n",
       "      <td>None</td>\n",
       "    </tr>\n",
       "    <tr>\n",
       "      <th>1940</th>\n",
       "      <td>673716320723169284</td>\n",
       "      <td>6.737159e+17</td>\n",
       "      <td>4.196984e+09</td>\n",
       "      <td>2015-12-07 04:11:02 +0000</td>\n",
       "      <td>&lt;a href=\"http://twitter.com/download/iphone\" r...</td>\n",
       "      <td>The millennials have spoken and we've decided ...</td>\n",
       "      <td>NaN</td>\n",
       "      <td>NaN</td>\n",
       "      <td>NaN</td>\n",
       "      <td>NaN</td>\n",
       "      <td>1</td>\n",
       "      <td>10</td>\n",
       "      <td>None</td>\n",
       "      <td>None</td>\n",
       "      <td>None</td>\n",
       "      <td>None</td>\n",
       "      <td>None</td>\n",
       "    </tr>\n",
       "    <tr>\n",
       "      <th>2038</th>\n",
       "      <td>671550332464455680</td>\n",
       "      <td>6.715449e+17</td>\n",
       "      <td>4.196984e+09</td>\n",
       "      <td>2015-12-01 04:44:10 +0000</td>\n",
       "      <td>&lt;a href=\"http://twitter.com/download/iphone\" r...</td>\n",
       "      <td>After 22 minutes of careful deliberation this ...</td>\n",
       "      <td>NaN</td>\n",
       "      <td>NaN</td>\n",
       "      <td>NaN</td>\n",
       "      <td>NaN</td>\n",
       "      <td>1</td>\n",
       "      <td>10</td>\n",
       "      <td>None</td>\n",
       "      <td>None</td>\n",
       "      <td>None</td>\n",
       "      <td>None</td>\n",
       "      <td>None</td>\n",
       "    </tr>\n",
       "    <tr>\n",
       "      <th>2149</th>\n",
       "      <td>669684865554620416</td>\n",
       "      <td>6.693544e+17</td>\n",
       "      <td>4.196984e+09</td>\n",
       "      <td>2015-11-26 01:11:28 +0000</td>\n",
       "      <td>&lt;a href=\"http://twitter.com/download/iphone\" r...</td>\n",
       "      <td>After countless hours of research and hundreds...</td>\n",
       "      <td>NaN</td>\n",
       "      <td>NaN</td>\n",
       "      <td>NaN</td>\n",
       "      <td>NaN</td>\n",
       "      <td>11</td>\n",
       "      <td>10</td>\n",
       "      <td>None</td>\n",
       "      <td>None</td>\n",
       "      <td>None</td>\n",
       "      <td>None</td>\n",
       "      <td>None</td>\n",
       "    </tr>\n",
       "    <tr>\n",
       "      <th>2189</th>\n",
       "      <td>668967877119254528</td>\n",
       "      <td>6.689207e+17</td>\n",
       "      <td>2.143566e+07</td>\n",
       "      <td>2015-11-24 01:42:25 +0000</td>\n",
       "      <td>&lt;a href=\"http://twitter.com/download/iphone\" r...</td>\n",
       "      <td>12/10 good shit Bubka\\n@wane15</td>\n",
       "      <td>NaN</td>\n",
       "      <td>NaN</td>\n",
       "      <td>NaN</td>\n",
       "      <td>NaN</td>\n",
       "      <td>12</td>\n",
       "      <td>10</td>\n",
       "      <td>None</td>\n",
       "      <td>None</td>\n",
       "      <td>None</td>\n",
       "      <td>None</td>\n",
       "      <td>None</td>\n",
       "    </tr>\n",
       "    <tr>\n",
       "      <th>2298</th>\n",
       "      <td>667070482143944705</td>\n",
       "      <td>6.670655e+17</td>\n",
       "      <td>4.196984e+09</td>\n",
       "      <td>2015-11-18 20:02:51 +0000</td>\n",
       "      <td>&lt;a href=\"http://twitter.com/download/iphone\" r...</td>\n",
       "      <td>After much debate this dog is being upgraded t...</td>\n",
       "      <td>NaN</td>\n",
       "      <td>NaN</td>\n",
       "      <td>NaN</td>\n",
       "      <td>NaN</td>\n",
       "      <td>10</td>\n",
       "      <td>10</td>\n",
       "      <td>None</td>\n",
       "      <td>None</td>\n",
       "      <td>None</td>\n",
       "      <td>None</td>\n",
       "      <td>None</td>\n",
       "    </tr>\n",
       "  </tbody>\n",
       "</table>\n",
       "</div>"
      ],
      "text/plain": [
       "                tweet_id  in_reply_to_status_id  in_reply_to_user_id  \\\n",
       "30    886267009285017600           8.862664e+17         2.281182e+09   \n",
       "55    881633300179243008           8.816070e+17         4.738443e+07   \n",
       "64    879674319642796034           8.795538e+17         3.105441e+09   \n",
       "113   870726314365509632           8.707262e+17         1.648776e+07   \n",
       "148   863427515083354112           8.634256e+17         7.759620e+07   \n",
       "179   857214891891077121           8.571567e+17         1.806710e+08   \n",
       "185   856330835276025856                    NaN                  NaN   \n",
       "186   856288084350160898           8.562860e+17         2.792810e+08   \n",
       "188   855862651834028034           8.558616e+17         1.943518e+08   \n",
       "189   855860136149123072           8.558585e+17         1.361572e+07   \n",
       "218   850333567704068097           8.503288e+17         2.195506e+07   \n",
       "228   848213670039564288           8.482121e+17         4.196984e+09   \n",
       "234   847617282490613760           8.476062e+17         4.196984e+09   \n",
       "274   840698636975636481           8.406983e+17         8.405479e+17   \n",
       "290   838150277551247360           8.381455e+17         2.195506e+07   \n",
       "291   838085839343206401           8.380855e+17         2.894131e+09   \n",
       "313   835246439529840640           8.352460e+17         2.625958e+07   \n",
       "342   832088576586297345           8.320875e+17         3.058208e+07   \n",
       "346   831926988323639298           8.319030e+17         2.068372e+07   \n",
       "375   828361771580813312                    NaN                  NaN   \n",
       "387   826598799820865537           8.265984e+17         4.196984e+09   \n",
       "409   823333489516937216           8.233264e+17         1.582854e+09   \n",
       "427   821153421864615936           8.211526e+17         1.132119e+08   \n",
       "498   813130366689148928           8.131273e+17         4.196984e+09   \n",
       "513   811647686436880384           8.116272e+17         4.196984e+09   \n",
       "570   801854953262350336           8.018543e+17         1.185634e+07   \n",
       "576   800859414831898624           8.008580e+17         2.918590e+08   \n",
       "611   797165961484890113           7.971238e+17         2.916630e+07   \n",
       "701   786051337297522688           7.727430e+17         7.305050e+17   \n",
       "707   785515384317313025                    NaN                  NaN   \n",
       "843   766714921925144576           7.667118e+17         4.196984e+09   \n",
       "857   763956972077010945           7.638652e+17         1.584641e+07   \n",
       "967   750381685133418496           7.501805e+17         4.717297e+09   \n",
       "1005  747651430853525504           7.476487e+17         4.196984e+09   \n",
       "1080  738891149612572673           7.384119e+17         3.589728e+08   \n",
       "1295  707983188426153984           7.079801e+17         2.319108e+09   \n",
       "1345  704491224099647488           7.044857e+17         2.878549e+07   \n",
       "1445  696518437233913856                    NaN                  NaN   \n",
       "1446  696490539101908992           6.964887e+17         4.196984e+09   \n",
       "1474  693644216740769793           6.936422e+17         4.196984e+09   \n",
       "1479  693582294167244802           6.935722e+17         1.198989e+09   \n",
       "1497  692423280028966913           6.924173e+17         4.196984e+09   \n",
       "1523  690607260360429569           6.903413e+17         4.670367e+08   \n",
       "1598  686035780142297088           6.860340e+17         4.196984e+09   \n",
       "1605  685681090388975616           6.855479e+17         4.196984e+09   \n",
       "1618  684969860808454144           6.849598e+17         4.196984e+09   \n",
       "1663  682808988178739200           6.827884e+17         4.196984e+09   \n",
       "1689  681340665377193984           6.813394e+17         4.196984e+09   \n",
       "1774  678023323247357953           6.780211e+17         4.196984e+09   \n",
       "1819  676590572941893632           6.765883e+17         4.196984e+09   \n",
       "1844  675849018447167488           6.758457e+17         4.196984e+09   \n",
       "1895  674742531037511680           6.747400e+17         4.196984e+09   \n",
       "1905  674606911342424069           6.744689e+17         4.196984e+09   \n",
       "1914  674330906434379776           6.658147e+17         1.637468e+07   \n",
       "1940  673716320723169284           6.737159e+17         4.196984e+09   \n",
       "2038  671550332464455680           6.715449e+17         4.196984e+09   \n",
       "2149  669684865554620416           6.693544e+17         4.196984e+09   \n",
       "2189  668967877119254528           6.689207e+17         2.143566e+07   \n",
       "2298  667070482143944705           6.670655e+17         4.196984e+09   \n",
       "\n",
       "                      timestamp  \\\n",
       "30    2017-07-15 16:51:35 +0000   \n",
       "55    2017-07-02 21:58:53 +0000   \n",
       "64    2017-06-27 12:14:36 +0000   \n",
       "113   2017-06-02 19:38:25 +0000   \n",
       "148   2017-05-13 16:15:35 +0000   \n",
       "179   2017-04-26 12:48:51 +0000   \n",
       "185   2017-04-24 02:15:55 +0000   \n",
       "186   2017-04-23 23:26:03 +0000   \n",
       "188   2017-04-22 19:15:32 +0000   \n",
       "189   2017-04-22 19:05:32 +0000   \n",
       "218   2017-04-07 13:04:55 +0000   \n",
       "228   2017-04-01 16:41:12 +0000   \n",
       "234   2017-03-31 01:11:22 +0000   \n",
       "274   2017-03-11 22:59:09 +0000   \n",
       "290   2017-03-04 22:12:52 +0000   \n",
       "291   2017-03-04 17:56:49 +0000   \n",
       "313   2017-02-24 21:54:03 +0000   \n",
       "342   2017-02-16 04:45:50 +0000   \n",
       "346   2017-02-15 18:03:45 +0000   \n",
       "375   2017-02-05 21:56:51 +0000   \n",
       "387   2017-02-01 01:11:25 +0000   \n",
       "409   2017-01-23 00:56:15 +0000   \n",
       "427   2017-01-17 00:33:26 +0000   \n",
       "498   2016-12-25 21:12:41 +0000   \n",
       "513   2016-12-21 19:01:02 +0000   \n",
       "570   2016-11-24 18:28:13 +0000   \n",
       "576   2016-11-22 00:32:18 +0000   \n",
       "611   2016-11-11 19:55:50 +0000   \n",
       "701   2016-10-12 03:50:17 +0000   \n",
       "707   2016-10-10 16:20:36 +0000   \n",
       "843   2016-08-19 19:14:16 +0000   \n",
       "857   2016-08-12 04:35:10 +0000   \n",
       "967   2016-07-05 17:31:49 +0000   \n",
       "1005  2016-06-28 04:42:46 +0000   \n",
       "1080  2016-06-04 00:32:32 +0000   \n",
       "1295  2016-03-10 17:35:20 +0000   \n",
       "1345  2016-03-01 02:19:31 +0000   \n",
       "1445  2016-02-08 02:18:30 +0000   \n",
       "1446  2016-02-08 00:27:39 +0000   \n",
       "1474  2016-01-31 03:57:23 +0000   \n",
       "1479  2016-01-30 23:51:19 +0000   \n",
       "1497  2016-01-27 19:05:49 +0000   \n",
       "1523  2016-01-22 18:49:36 +0000   \n",
       "1598  2016-01-10 04:04:10 +0000   \n",
       "1605  2016-01-09 04:34:45 +0000   \n",
       "1618  2016-01-07 05:28:35 +0000   \n",
       "1663  2016-01-01 06:22:03 +0000   \n",
       "1689  2015-12-28 05:07:27 +0000   \n",
       "1774  2015-12-19 01:25:31 +0000   \n",
       "1819  2015-12-15 02:32:17 +0000   \n",
       "1844  2015-12-13 01:25:37 +0000   \n",
       "1895  2015-12-10 00:08:50 +0000   \n",
       "1905  2015-12-09 15:09:55 +0000   \n",
       "1914  2015-12-08 20:53:11 +0000   \n",
       "1940  2015-12-07 04:11:02 +0000   \n",
       "2038  2015-12-01 04:44:10 +0000   \n",
       "2149  2015-11-26 01:11:28 +0000   \n",
       "2189  2015-11-24 01:42:25 +0000   \n",
       "2298  2015-11-18 20:02:51 +0000   \n",
       "\n",
       "                                                 source  \\\n",
       "30    <a href=\"http://twitter.com/download/iphone\" r...   \n",
       "55    <a href=\"http://twitter.com/download/iphone\" r...   \n",
       "64    <a href=\"http://twitter.com/download/iphone\" r...   \n",
       "113   <a href=\"http://twitter.com/download/iphone\" r...   \n",
       "148   <a href=\"http://twitter.com/download/iphone\" r...   \n",
       "179   <a href=\"http://twitter.com/download/iphone\" r...   \n",
       "185   <a href=\"http://twitter.com/download/iphone\" r...   \n",
       "186   <a href=\"http://twitter.com/download/iphone\" r...   \n",
       "188   <a href=\"http://twitter.com/download/iphone\" r...   \n",
       "189   <a href=\"http://twitter.com/download/iphone\" r...   \n",
       "218   <a href=\"http://twitter.com/download/iphone\" r...   \n",
       "228   <a href=\"http://twitter.com/download/iphone\" r...   \n",
       "234   <a href=\"http://twitter.com/download/iphone\" r...   \n",
       "274   <a href=\"http://twitter.com/download/iphone\" r...   \n",
       "290   <a href=\"http://twitter.com/download/iphone\" r...   \n",
       "291   <a href=\"http://twitter.com/download/iphone\" r...   \n",
       "313   <a href=\"http://twitter.com/download/iphone\" r...   \n",
       "342   <a href=\"http://twitter.com/download/iphone\" r...   \n",
       "346   <a href=\"http://twitter.com/download/iphone\" r...   \n",
       "375   <a href=\"http://twitter.com\" rel=\"nofollow\">Tw...   \n",
       "387   <a href=\"http://twitter.com/download/iphone\" r...   \n",
       "409   <a href=\"http://twitter.com/download/iphone\" r...   \n",
       "427   <a href=\"http://twitter.com/download/iphone\" r...   \n",
       "498   <a href=\"http://twitter.com/download/iphone\" r...   \n",
       "513   <a href=\"http://twitter.com/download/iphone\" r...   \n",
       "570   <a href=\"http://twitter.com/download/iphone\" r...   \n",
       "576   <a href=\"http://twitter.com/download/iphone\" r...   \n",
       "611   <a href=\"http://twitter.com/download/iphone\" r...   \n",
       "701   <a href=\"http://twitter.com/download/iphone\" r...   \n",
       "707   <a href=\"http://twitter.com/download/iphone\" r...   \n",
       "843   <a href=\"http://twitter.com/download/iphone\" r...   \n",
       "857   <a href=\"http://twitter.com/download/iphone\" r...   \n",
       "967   <a href=\"http://twitter.com/download/iphone\" r...   \n",
       "1005  <a href=\"http://twitter.com/download/iphone\" r...   \n",
       "1080  <a href=\"http://twitter.com/download/iphone\" r...   \n",
       "1295  <a href=\"http://twitter.com/download/iphone\" r...   \n",
       "1345  <a href=\"http://twitter.com/download/iphone\" r...   \n",
       "1445  <a href=\"http://twitter.com/download/iphone\" r...   \n",
       "1446  <a href=\"http://twitter.com/download/iphone\" r...   \n",
       "1474  <a href=\"http://twitter.com/download/iphone\" r...   \n",
       "1479  <a href=\"http://twitter.com/download/iphone\" r...   \n",
       "1497  <a href=\"http://twitter.com/download/iphone\" r...   \n",
       "1523  <a href=\"http://twitter.com/download/iphone\" r...   \n",
       "1598  <a href=\"http://twitter.com/download/iphone\" r...   \n",
       "1605  <a href=\"http://twitter.com/download/iphone\" r...   \n",
       "1618  <a href=\"http://twitter.com/download/iphone\" r...   \n",
       "1663  <a href=\"http://twitter.com/download/iphone\" r...   \n",
       "1689  <a href=\"http://twitter.com/download/iphone\" r...   \n",
       "1774  <a href=\"http://twitter.com/download/iphone\" r...   \n",
       "1819  <a href=\"http://twitter.com/download/iphone\" r...   \n",
       "1844  <a href=\"http://twitter.com/download/iphone\" r...   \n",
       "1895  <a href=\"http://twitter.com/download/iphone\" r...   \n",
       "1905  <a href=\"http://twitter.com/download/iphone\" r...   \n",
       "1914  <a href=\"http://twitter.com/download/iphone\" r...   \n",
       "1940  <a href=\"http://twitter.com/download/iphone\" r...   \n",
       "2038  <a href=\"http://twitter.com/download/iphone\" r...   \n",
       "2149  <a href=\"http://twitter.com/download/iphone\" r...   \n",
       "2189  <a href=\"http://twitter.com/download/iphone\" r...   \n",
       "2298  <a href=\"http://twitter.com/download/iphone\" r...   \n",
       "\n",
       "                                                   text  retweeted_status_id  \\\n",
       "30    @NonWhiteHat @MayhewMayhem omg hello tanner yo...                  NaN   \n",
       "55    @roushfenway These are good dogs but 17/10 is ...                  NaN   \n",
       "64                      @RealKentMurphy 14/10 confirmed                  NaN   \n",
       "113   @ComplicitOwl @ShopWeRateDogs &gt;10/10 is res...                  NaN   \n",
       "148   @Jack_Septic_Eye I'd need a few more pics to p...                  NaN   \n",
       "179                        @Marc_IRL pixelated af 12/10                  NaN   \n",
       "185   RT @Jenna_Marbles: @dog_rates Thanks for ratin...         8.563302e+17   \n",
       "186   @xianmcguire @Jenna_Marbles Kardashians wouldn...                  NaN   \n",
       "188   @dhmontgomery We also gave snoop dogg a 420/10...                  NaN   \n",
       "189   @s8n You tried very hard to portray this good ...                  NaN   \n",
       "218   @markhoppus MARK THAT DOG HAS SEEN AND EXPERIE...                  NaN   \n",
       "228   Jerry just apuppologized to me. He said there ...                  NaN   \n",
       "234   .@breaannanicolee PUPDATE: Cannon has a heart ...                  NaN   \n",
       "274   @0_kelvin_0 &gt;10/10 is reserved for puppos s...                  NaN   \n",
       "290                                  @markhoppus 182/10                  NaN   \n",
       "291   @bragg6of8 @Andy_Pace_ we are still looking fo...                  NaN   \n",
       "313   @jonnysun @Lin_Manuel ok jomny I know you're e...                  NaN   \n",
       "342            @docmisterio account started on 11/15/15                  NaN   \n",
       "346                              @UNC can confirm 12/10                  NaN   \n",
       "375   Beebop and Doobert should start a band 12/10 w...                  NaN   \n",
       "387   I was going to do 007/10, but the joke wasn't ...                  NaN   \n",
       "409                                @HistoryInPics 13/10                  NaN   \n",
       "427   @imgur for a polar bear tho I'd say 13/10 is a...                  NaN   \n",
       "498   I've been informed by multiple sources that th...                  NaN   \n",
       "513   PUPDATE: I've been informed that Augie was act...                  NaN   \n",
       "570   .@NBCSports OMG THE TINY HAT I'M GOING TO HAVE...                  NaN   \n",
       "576   @SkyWilliams doggo simply protecting you from ...                  NaN   \n",
       "611   @JODYHiGHROLLER it may be an 11/10 but what do...                  NaN   \n",
       "701             13/10 for breakdancing puppo @shibbnbot                  NaN   \n",
       "707      Today, 10/10, should be National Dog Rates Day                  NaN   \n",
       "843   His name is Charley and he already has a new s...                  NaN   \n",
       "857   @TheEllenShow I'm not sure if you know this bu...                  NaN   \n",
       "967                13/10 such a good doggo\\n@spaghemily                  NaN   \n",
       "1005  Other pupper asked not to have his identity sh...                  NaN   \n",
       "1080                                 @mount_alex3 13/10                  NaN   \n",
       "1295  @serial @MrRoles OH MY GOD I listened to all o...                  NaN   \n",
       "1345                                13/10 hero af\\n@ABC                  NaN   \n",
       "1445    Oh my god 10/10 for every little hot dog pupper                  NaN   \n",
       "1446  After reading the comments I may have overesti...                  NaN   \n",
       "1474  BREAKING PUPDATE: I've just been notified that...                  NaN   \n",
       "1479  Personally I'd give him an 11/10. Not sure why...                  NaN   \n",
       "1497  PUPDATE: just noticed this dog has some extra ...                  NaN   \n",
       "1523                              12/10 @LightningHoltt                  NaN   \n",
       "1598  Yes I do realize a rating of 4/20 would've bee...                  NaN   \n",
       "1605  Jack deserves another round of applause. If yo...                  NaN   \n",
       "1618  For those who claim this is a goat, u are wron...                  NaN   \n",
       "1663  I'm aware that I could've said 20/16, but here...                  NaN   \n",
       "1689  I've been told there's a slight possibility he...                  NaN   \n",
       "1774  After getting lost in Reese's eyes for several...                  NaN   \n",
       "1819  After some outrage from the crowd. Bubbles is ...                  NaN   \n",
       "1844  This dog is being demoted to a 9/10 for not we...                  NaN   \n",
       "1895  Some clarification is required. The dog is sin...                  NaN   \n",
       "1905  The 13/10 also takes into account this impecca...                  NaN   \n",
       "1914                                       13/10\\n@ABC7                  NaN   \n",
       "1940  The millennials have spoken and we've decided ...                  NaN   \n",
       "2038  After 22 minutes of careful deliberation this ...                  NaN   \n",
       "2149  After countless hours of research and hundreds...                  NaN   \n",
       "2189                     12/10 good shit Bubka\\n@wane15                  NaN   \n",
       "2298  After much debate this dog is being upgraded t...                  NaN   \n",
       "\n",
       "      retweeted_status_user_id retweeted_status_timestamp expanded_urls  \\\n",
       "30                         NaN                        NaN           NaN   \n",
       "55                         NaN                        NaN           NaN   \n",
       "64                         NaN                        NaN           NaN   \n",
       "113                        NaN                        NaN           NaN   \n",
       "148                        NaN                        NaN           NaN   \n",
       "179                        NaN                        NaN           NaN   \n",
       "185                 66699013.0  2017-04-24 02:13:14 +0000           NaN   \n",
       "186                        NaN                        NaN           NaN   \n",
       "188                        NaN                        NaN           NaN   \n",
       "189                        NaN                        NaN           NaN   \n",
       "218                        NaN                        NaN           NaN   \n",
       "228                        NaN                        NaN           NaN   \n",
       "234                        NaN                        NaN           NaN   \n",
       "274                        NaN                        NaN           NaN   \n",
       "290                        NaN                        NaN           NaN   \n",
       "291                        NaN                        NaN           NaN   \n",
       "313                        NaN                        NaN           NaN   \n",
       "342                        NaN                        NaN           NaN   \n",
       "346                        NaN                        NaN           NaN   \n",
       "375                        NaN                        NaN           NaN   \n",
       "387                        NaN                        NaN           NaN   \n",
       "409                        NaN                        NaN           NaN   \n",
       "427                        NaN                        NaN           NaN   \n",
       "498                        NaN                        NaN           NaN   \n",
       "513                        NaN                        NaN           NaN   \n",
       "570                        NaN                        NaN           NaN   \n",
       "576                        NaN                        NaN           NaN   \n",
       "611                        NaN                        NaN           NaN   \n",
       "701                        NaN                        NaN           NaN   \n",
       "707                        NaN                        NaN           NaN   \n",
       "843                        NaN                        NaN           NaN   \n",
       "857                        NaN                        NaN           NaN   \n",
       "967                        NaN                        NaN           NaN   \n",
       "1005                       NaN                        NaN           NaN   \n",
       "1080                       NaN                        NaN           NaN   \n",
       "1295                       NaN                        NaN           NaN   \n",
       "1345                       NaN                        NaN           NaN   \n",
       "1445                       NaN                        NaN           NaN   \n",
       "1446                       NaN                        NaN           NaN   \n",
       "1474                       NaN                        NaN           NaN   \n",
       "1479                       NaN                        NaN           NaN   \n",
       "1497                       NaN                        NaN           NaN   \n",
       "1523                       NaN                        NaN           NaN   \n",
       "1598                       NaN                        NaN           NaN   \n",
       "1605                       NaN                        NaN           NaN   \n",
       "1618                       NaN                        NaN           NaN   \n",
       "1663                       NaN                        NaN           NaN   \n",
       "1689                       NaN                        NaN           NaN   \n",
       "1774                       NaN                        NaN           NaN   \n",
       "1819                       NaN                        NaN           NaN   \n",
       "1844                       NaN                        NaN           NaN   \n",
       "1895                       NaN                        NaN           NaN   \n",
       "1905                       NaN                        NaN           NaN   \n",
       "1914                       NaN                        NaN           NaN   \n",
       "1940                       NaN                        NaN           NaN   \n",
       "2038                       NaN                        NaN           NaN   \n",
       "2149                       NaN                        NaN           NaN   \n",
       "2189                       NaN                        NaN           NaN   \n",
       "2298                       NaN                        NaN           NaN   \n",
       "\n",
       "      rating_numerator  rating_denominator  name  doggo floofer  pupper  puppo  \n",
       "30                  12                  10  None   None    None    None   None  \n",
       "55                  17                  10  None   None    None    None   None  \n",
       "64                  14                  10  None   None    None    None   None  \n",
       "113                 10                  10  None   None    None    None   None  \n",
       "148                 12                  10  None   None    None    None   None  \n",
       "179                 12                  10  None   None    None    None   None  \n",
       "185                 14                  10  None   None    None    None   None  \n",
       "186                 14                  10  None   None    None    None   None  \n",
       "188                420                  10  None   None    None    None   None  \n",
       "189                666                  10  None   None    None    None   None  \n",
       "218                 13                  10  None   None    None    None   None  \n",
       "228                 11                  10  None   None    None    None   None  \n",
       "234                 13                  10  None   None    None    None   None  \n",
       "274                 10                  10  None   None    None    None   None  \n",
       "290                182                  10  None   None    None    None   None  \n",
       "291                 15                  10  None   None    None    None   None  \n",
       "313                960                   0  None   None    None    None   None  \n",
       "342                 11                  15  None   None    None    None   None  \n",
       "346                 12                  10  None   None    None    None   None  \n",
       "375                 12                  10  None   None    None    None   None  \n",
       "387                  7                  10  None   None    None    None   None  \n",
       "409                 13                  10  None   None    None    None   None  \n",
       "427                 13                  10  None   None    None    None   None  \n",
       "498                 12                  10  None   None    None    None   None  \n",
       "513                 11                  10  None   None    None    None   None  \n",
       "570                 11                  10  None   None    None    None   None  \n",
       "576                 11                  10  None  doggo    None    None   None  \n",
       "611                 11                  10  None   None    None    None   None  \n",
       "701                 13                  10  None   None    None    None  puppo  \n",
       "707                 10                  10  None   None    None    None   None  \n",
       "843                 13                  10  None   None    None    None   None  \n",
       "857                 12                  10  None  doggo    None    None   None  \n",
       "967                 13                  10  None  doggo    None    None   None  \n",
       "1005                12                  10  None   None    None  pupper   None  \n",
       "1080                13                  10  None   None    None    None   None  \n",
       "1295                12                  10  None   None    None    None   None  \n",
       "1345                13                  10  None   None    None    None   None  \n",
       "1445                10                  10  None   None    None  pupper   None  \n",
       "1446                 1                  10  None   None    None    None   None  \n",
       "1474                10                  10  None   None    None    None   None  \n",
       "1479                11                  10  None   None    None    None   None  \n",
       "1497                 9                  10  None   None    None    None   None  \n",
       "1523                12                  10  None   None    None    None   None  \n",
       "1598                 4                  20  None   None    None    None   None  \n",
       "1605                14                  10  None   None    None    None   None  \n",
       "1618                 5                  10  None   None    None    None   None  \n",
       "1663                20                  16  None   None    None    None   None  \n",
       "1689                 5                  10  None   None    None    None   None  \n",
       "1774                13                  10  None   None    None    None   None  \n",
       "1819                 7                  10  None   None    None    None   None  \n",
       "1844                 9                  10  None   None    None    None   None  \n",
       "1895                11                  10  None   None    None    None   None  \n",
       "1905                13                  10  None   None    None    None   None  \n",
       "1914                13                  10  None   None    None    None   None  \n",
       "1940                 1                  10  None   None    None    None   None  \n",
       "2038                 1                  10  None   None    None    None   None  \n",
       "2149                11                  10  None   None    None    None   None  \n",
       "2189                12                  10  None   None    None    None   None  \n",
       "2298                10                  10  None   None    None    None   None  "
      ]
     },
     "execution_count": 21,
     "metadata": {},
     "output_type": "execute_result"
    }
   ],
   "source": [
    "archive[archive['expanded_urls'].isnull()]"
   ]
  },
  {
   "cell_type": "code",
   "execution_count": 22,
   "metadata": {},
   "outputs": [
    {
     "data": {
      "text/html": [
       "<div>\n",
       "<style scoped>\n",
       "    .dataframe tbody tr th:only-of-type {\n",
       "        vertical-align: middle;\n",
       "    }\n",
       "\n",
       "    .dataframe tbody tr th {\n",
       "        vertical-align: top;\n",
       "    }\n",
       "\n",
       "    .dataframe thead th {\n",
       "        text-align: right;\n",
       "    }\n",
       "</style>\n",
       "<table border=\"1\" class=\"dataframe\">\n",
       "  <thead>\n",
       "    <tr style=\"text-align: right;\">\n",
       "      <th></th>\n",
       "      <th>tweet_id</th>\n",
       "      <th>in_reply_to_status_id</th>\n",
       "      <th>in_reply_to_user_id</th>\n",
       "      <th>timestamp</th>\n",
       "      <th>source</th>\n",
       "      <th>text</th>\n",
       "      <th>retweeted_status_id</th>\n",
       "      <th>retweeted_status_user_id</th>\n",
       "      <th>retweeted_status_timestamp</th>\n",
       "      <th>expanded_urls</th>\n",
       "      <th>rating_numerator</th>\n",
       "      <th>rating_denominator</th>\n",
       "      <th>name</th>\n",
       "      <th>doggo</th>\n",
       "      <th>floofer</th>\n",
       "      <th>pupper</th>\n",
       "      <th>puppo</th>\n",
       "    </tr>\n",
       "  </thead>\n",
       "  <tbody>\n",
       "    <tr>\n",
       "      <th>559</th>\n",
       "      <td>803276597545603072</td>\n",
       "      <td>NaN</td>\n",
       "      <td>NaN</td>\n",
       "      <td>2016-11-28 16:37:19 +0000</td>\n",
       "      <td>&lt;a href=\"http://twitter.com/download/iphone\" r...</td>\n",
       "      <td>This is Winston. His selfie game is legendary....</td>\n",
       "      <td>NaN</td>\n",
       "      <td>NaN</td>\n",
       "      <td>NaN</td>\n",
       "      <td>https://twitter.com/dog_rates/status/803276597...</td>\n",
       "      <td>11</td>\n",
       "      <td>10</td>\n",
       "      <td>Winston</td>\n",
       "      <td>None</td>\n",
       "      <td>None</td>\n",
       "      <td>None</td>\n",
       "      <td>None</td>\n",
       "    </tr>\n",
       "    <tr>\n",
       "      <th>456</th>\n",
       "      <td>818259473185828864</td>\n",
       "      <td>NaN</td>\n",
       "      <td>NaN</td>\n",
       "      <td>2017-01-09 00:53:55 +0000</td>\n",
       "      <td>&lt;a href=\"http://twitter.com/download/iphone\" r...</td>\n",
       "      <td>This is Florence. He saw the same snap you sen...</td>\n",
       "      <td>NaN</td>\n",
       "      <td>NaN</td>\n",
       "      <td>NaN</td>\n",
       "      <td>https://twitter.com/dog_rates/status/818259473...</td>\n",
       "      <td>12</td>\n",
       "      <td>10</td>\n",
       "      <td>Florence</td>\n",
       "      <td>None</td>\n",
       "      <td>None</td>\n",
       "      <td>None</td>\n",
       "      <td>None</td>\n",
       "    </tr>\n",
       "    <tr>\n",
       "      <th>1713</th>\n",
       "      <td>680473011644985345</td>\n",
       "      <td>NaN</td>\n",
       "      <td>NaN</td>\n",
       "      <td>2015-12-25 19:39:43 +0000</td>\n",
       "      <td>&lt;a href=\"http://twitter.com/download/iphone\" r...</td>\n",
       "      <td>This is Hector. He thinks he's a hammer. Silly...</td>\n",
       "      <td>NaN</td>\n",
       "      <td>NaN</td>\n",
       "      <td>NaN</td>\n",
       "      <td>https://twitter.com/dog_rates/status/680473011...</td>\n",
       "      <td>10</td>\n",
       "      <td>10</td>\n",
       "      <td>Hector</td>\n",
       "      <td>None</td>\n",
       "      <td>None</td>\n",
       "      <td>pupper</td>\n",
       "      <td>None</td>\n",
       "    </tr>\n",
       "    <tr>\n",
       "      <th>405</th>\n",
       "      <td>823939628516474880</td>\n",
       "      <td>NaN</td>\n",
       "      <td>NaN</td>\n",
       "      <td>2017-01-24 17:04:50 +0000</td>\n",
       "      <td>&lt;a href=\"http://twitter.com/download/iphone\" r...</td>\n",
       "      <td>This is Cash. He's officially given pup on tod...</td>\n",
       "      <td>NaN</td>\n",
       "      <td>NaN</td>\n",
       "      <td>NaN</td>\n",
       "      <td>https://twitter.com/dog_rates/status/823939628...</td>\n",
       "      <td>12</td>\n",
       "      <td>10</td>\n",
       "      <td>Cash</td>\n",
       "      <td>None</td>\n",
       "      <td>None</td>\n",
       "      <td>None</td>\n",
       "      <td>None</td>\n",
       "    </tr>\n",
       "    <tr>\n",
       "      <th>1048</th>\n",
       "      <td>743253157753532416</td>\n",
       "      <td>NaN</td>\n",
       "      <td>NaN</td>\n",
       "      <td>2016-06-16 01:25:36 +0000</td>\n",
       "      <td>&lt;a href=\"http://twitter.com/download/iphone\" r...</td>\n",
       "      <td>This is Kilo. He cannot reach the snackum. Nif...</td>\n",
       "      <td>NaN</td>\n",
       "      <td>NaN</td>\n",
       "      <td>NaN</td>\n",
       "      <td>https://twitter.com/dog_rates/status/743253157...</td>\n",
       "      <td>10</td>\n",
       "      <td>10</td>\n",
       "      <td>Kilo</td>\n",
       "      <td>None</td>\n",
       "      <td>None</td>\n",
       "      <td>None</td>\n",
       "      <td>puppo</td>\n",
       "    </tr>\n",
       "  </tbody>\n",
       "</table>\n",
       "</div>"
      ],
      "text/plain": [
       "                tweet_id  in_reply_to_status_id  in_reply_to_user_id  \\\n",
       "559   803276597545603072                    NaN                  NaN   \n",
       "456   818259473185828864                    NaN                  NaN   \n",
       "1713  680473011644985345                    NaN                  NaN   \n",
       "405   823939628516474880                    NaN                  NaN   \n",
       "1048  743253157753532416                    NaN                  NaN   \n",
       "\n",
       "                      timestamp  \\\n",
       "559   2016-11-28 16:37:19 +0000   \n",
       "456   2017-01-09 00:53:55 +0000   \n",
       "1713  2015-12-25 19:39:43 +0000   \n",
       "405   2017-01-24 17:04:50 +0000   \n",
       "1048  2016-06-16 01:25:36 +0000   \n",
       "\n",
       "                                                 source  \\\n",
       "559   <a href=\"http://twitter.com/download/iphone\" r...   \n",
       "456   <a href=\"http://twitter.com/download/iphone\" r...   \n",
       "1713  <a href=\"http://twitter.com/download/iphone\" r...   \n",
       "405   <a href=\"http://twitter.com/download/iphone\" r...   \n",
       "1048  <a href=\"http://twitter.com/download/iphone\" r...   \n",
       "\n",
       "                                                   text  retweeted_status_id  \\\n",
       "559   This is Winston. His selfie game is legendary....                  NaN   \n",
       "456   This is Florence. He saw the same snap you sen...                  NaN   \n",
       "1713  This is Hector. He thinks he's a hammer. Silly...                  NaN   \n",
       "405   This is Cash. He's officially given pup on tod...                  NaN   \n",
       "1048  This is Kilo. He cannot reach the snackum. Nif...                  NaN   \n",
       "\n",
       "      retweeted_status_user_id retweeted_status_timestamp  \\\n",
       "559                        NaN                        NaN   \n",
       "456                        NaN                        NaN   \n",
       "1713                       NaN                        NaN   \n",
       "405                        NaN                        NaN   \n",
       "1048                       NaN                        NaN   \n",
       "\n",
       "                                          expanded_urls  rating_numerator  \\\n",
       "559   https://twitter.com/dog_rates/status/803276597...                11   \n",
       "456   https://twitter.com/dog_rates/status/818259473...                12   \n",
       "1713  https://twitter.com/dog_rates/status/680473011...                10   \n",
       "405   https://twitter.com/dog_rates/status/823939628...                12   \n",
       "1048  https://twitter.com/dog_rates/status/743253157...                10   \n",
       "\n",
       "      rating_denominator      name doggo floofer  pupper  puppo  \n",
       "559                   10   Winston  None    None    None   None  \n",
       "456                   10  Florence  None    None    None   None  \n",
       "1713                  10    Hector  None    None  pupper   None  \n",
       "405                   10      Cash  None    None    None   None  \n",
       "1048                  10      Kilo  None    None    None  puppo  "
      ]
     },
     "execution_count": 22,
     "metadata": {},
     "output_type": "execute_result"
    }
   ],
   "source": [
    "archive.sample(5)"
   ]
  },
  {
   "cell_type": "code",
   "execution_count": 23,
   "metadata": {},
   "outputs": [
    {
     "data": {
      "text/plain": [
       "None       745\n",
       "a           55\n",
       "Charlie     12\n",
       "Cooper      11\n",
       "Oliver      11\n",
       "          ... \n",
       "Beckham      1\n",
       "Cheesy       1\n",
       "Bert         1\n",
       "Kenzie       1\n",
       "Ulysses      1\n",
       "Name: name, Length: 957, dtype: int64"
      ]
     },
     "execution_count": 23,
     "metadata": {},
     "output_type": "execute_result"
    }
   ],
   "source": [
    "archive.name.value_counts()\n",
    "# wrong extracted (a) nemes."
   ]
  },
  {
   "cell_type": "code",
   "execution_count": 24,
   "metadata": {},
   "outputs": [
    {
     "data": {
      "text/plain": [
       "10     2333\n",
       "11        3\n",
       "50        3\n",
       "80        2\n",
       "20        2\n",
       "2         1\n",
       "16        1\n",
       "40        1\n",
       "70        1\n",
       "15        1\n",
       "90        1\n",
       "110       1\n",
       "120       1\n",
       "130       1\n",
       "150       1\n",
       "170       1\n",
       "7         1\n",
       "0         1\n",
       "Name: rating_denominator, dtype: int64"
      ]
     },
     "execution_count": 24,
     "metadata": {},
     "output_type": "execute_result"
    }
   ],
   "source": [
    "archive.rating_denominator.value_counts()"
   ]
  },
  {
   "cell_type": "code",
   "execution_count": 25,
   "metadata": {},
   "outputs": [
    {
     "data": {
      "text/plain": [
       "12      558\n",
       "11      464\n",
       "10      461\n",
       "13      351\n",
       "9       158\n",
       "8       102\n",
       "7        55\n",
       "14       54\n",
       "5        37\n",
       "6        32\n",
       "3        19\n",
       "4        17\n",
       "1         9\n",
       "2         9\n",
       "420       2\n",
       "0         2\n",
       "15        2\n",
       "75        2\n",
       "80        1\n",
       "20        1\n",
       "24        1\n",
       "26        1\n",
       "44        1\n",
       "50        1\n",
       "60        1\n",
       "165       1\n",
       "84        1\n",
       "88        1\n",
       "144       1\n",
       "182       1\n",
       "143       1\n",
       "666       1\n",
       "960       1\n",
       "1776      1\n",
       "17        1\n",
       "27        1\n",
       "45        1\n",
       "99        1\n",
       "121       1\n",
       "204       1\n",
       "Name: rating_numerator, dtype: int64"
      ]
     },
     "execution_count": 25,
     "metadata": {},
     "output_type": "execute_result"
    }
   ],
   "source": [
    "archive.rating_numerator.value_counts()"
   ]
  },
  {
   "cell_type": "code",
   "execution_count": 26,
   "metadata": {},
   "outputs": [
    {
     "data": {
      "text/html": [
       "<div>\n",
       "<style scoped>\n",
       "    .dataframe tbody tr th:only-of-type {\n",
       "        vertical-align: middle;\n",
       "    }\n",
       "\n",
       "    .dataframe tbody tr th {\n",
       "        vertical-align: top;\n",
       "    }\n",
       "\n",
       "    .dataframe thead th {\n",
       "        text-align: right;\n",
       "    }\n",
       "</style>\n",
       "<table border=\"1\" class=\"dataframe\">\n",
       "  <thead>\n",
       "    <tr style=\"text-align: right;\">\n",
       "      <th></th>\n",
       "      <th>tweet_id</th>\n",
       "      <th>in_reply_to_status_id</th>\n",
       "      <th>in_reply_to_user_id</th>\n",
       "      <th>timestamp</th>\n",
       "      <th>source</th>\n",
       "      <th>text</th>\n",
       "      <th>retweeted_status_id</th>\n",
       "      <th>retweeted_status_user_id</th>\n",
       "      <th>retweeted_status_timestamp</th>\n",
       "      <th>expanded_urls</th>\n",
       "      <th>rating_numerator</th>\n",
       "      <th>rating_denominator</th>\n",
       "      <th>name</th>\n",
       "      <th>doggo</th>\n",
       "      <th>floofer</th>\n",
       "      <th>pupper</th>\n",
       "      <th>puppo</th>\n",
       "    </tr>\n",
       "  </thead>\n",
       "  <tbody>\n",
       "  </tbody>\n",
       "</table>\n",
       "</div>"
      ],
      "text/plain": [
       "Empty DataFrame\n",
       "Columns: [tweet_id, in_reply_to_status_id, in_reply_to_user_id, timestamp, source, text, retweeted_status_id, retweeted_status_user_id, retweeted_status_timestamp, expanded_urls, rating_numerator, rating_denominator, name, doggo, floofer, pupper, puppo]\n",
       "Index: []"
      ]
     },
     "execution_count": 26,
     "metadata": {},
     "output_type": "execute_result"
    }
   ],
   "source": [
    "archive[archive.tweet_id.duplicated()]"
   ]
  },
  {
   "cell_type": "code",
   "execution_count": 27,
   "metadata": {},
   "outputs": [
    {
     "data": {
      "text/html": [
       "<div>\n",
       "<style scoped>\n",
       "    .dataframe tbody tr th:only-of-type {\n",
       "        vertical-align: middle;\n",
       "    }\n",
       "\n",
       "    .dataframe tbody tr th {\n",
       "        vertical-align: top;\n",
       "    }\n",
       "\n",
       "    .dataframe thead th {\n",
       "        text-align: right;\n",
       "    }\n",
       "</style>\n",
       "<table border=\"1\" class=\"dataframe\">\n",
       "  <thead>\n",
       "    <tr style=\"text-align: right;\">\n",
       "      <th></th>\n",
       "      <th>tweet_id</th>\n",
       "      <th>jpg_url</th>\n",
       "      <th>img_num</th>\n",
       "      <th>p1</th>\n",
       "      <th>p1_conf</th>\n",
       "      <th>p1_dog</th>\n",
       "      <th>p2</th>\n",
       "      <th>p2_conf</th>\n",
       "      <th>p2_dog</th>\n",
       "      <th>p3</th>\n",
       "      <th>p3_conf</th>\n",
       "      <th>p3_dog</th>\n",
       "    </tr>\n",
       "  </thead>\n",
       "  <tbody>\n",
       "  </tbody>\n",
       "</table>\n",
       "</div>"
      ],
      "text/plain": [
       "Empty DataFrame\n",
       "Columns: [tweet_id, jpg_url, img_num, p1, p1_conf, p1_dog, p2, p2_conf, p2_dog, p3, p3_conf, p3_dog]\n",
       "Index: []"
      ]
     },
     "execution_count": 27,
     "metadata": {},
     "output_type": "execute_result"
    }
   ],
   "source": [
    "image_predictions[image_predictions.tweet_id.duplicated()]"
   ]
  },
  {
   "cell_type": "code",
   "execution_count": 28,
   "metadata": {},
   "outputs": [
    {
     "data": {
      "text/plain": [
       "0"
      ]
     },
     "execution_count": 28,
     "metadata": {},
     "output_type": "execute_result"
    }
   ],
   "source": [
    "sum(image_predictions.duplicated())"
   ]
  },
  {
   "cell_type": "code",
   "execution_count": 29,
   "metadata": {},
   "outputs": [
    {
     "data": {
      "text/plain": [
       "0"
      ]
     },
     "execution_count": 29,
     "metadata": {},
     "output_type": "execute_result"
    }
   ],
   "source": [
    "sum(archive.duplicated())"
   ]
  },
  {
   "cell_type": "code",
   "execution_count": 30,
   "metadata": {},
   "outputs": [
    {
     "data": {
      "text/plain": [
       "0"
      ]
     },
     "execution_count": 30,
     "metadata": {},
     "output_type": "execute_result"
    }
   ],
   "source": [
    "sum(archive.doggo.isnull()) # shoud have nulls None"
   ]
  },
  {
   "cell_type": "code",
   "execution_count": 31,
   "metadata": {},
   "outputs": [
    {
     "data": {
      "text/plain": [
       "0"
      ]
     },
     "execution_count": 31,
     "metadata": {},
     "output_type": "execute_result"
    }
   ],
   "source": [
    "sum(archive.floofer.isnull())"
   ]
  },
  {
   "cell_type": "code",
   "execution_count": 32,
   "metadata": {},
   "outputs": [
    {
     "data": {
      "text/plain": [
       "0"
      ]
     },
     "execution_count": 32,
     "metadata": {},
     "output_type": "execute_result"
    }
   ],
   "source": [
    "sum(archive.pupper.isnull())"
   ]
  },
  {
   "cell_type": "code",
   "execution_count": 33,
   "metadata": {},
   "outputs": [
    {
     "data": {
      "text/plain": [
       "0"
      ]
     },
     "execution_count": 33,
     "metadata": {},
     "output_type": "execute_result"
    }
   ],
   "source": [
    "sum(archive.puppo.isnull())"
   ]
  },
  {
   "cell_type": "code",
   "execution_count": 34,
   "metadata": {
    "scrolled": true
   },
   "outputs": [
    {
     "data": {
      "text/html": [
       "<div>\n",
       "<style scoped>\n",
       "    .dataframe tbody tr th:only-of-type {\n",
       "        vertical-align: middle;\n",
       "    }\n",
       "\n",
       "    .dataframe tbody tr th {\n",
       "        vertical-align: top;\n",
       "    }\n",
       "\n",
       "    .dataframe thead th {\n",
       "        text-align: right;\n",
       "    }\n",
       "</style>\n",
       "<table border=\"1\" class=\"dataframe\">\n",
       "  <thead>\n",
       "    <tr style=\"text-align: right;\">\n",
       "      <th></th>\n",
       "      <th>tweet_id</th>\n",
       "      <th>in_reply_to_status_id</th>\n",
       "      <th>in_reply_to_user_id</th>\n",
       "      <th>timestamp</th>\n",
       "      <th>source</th>\n",
       "      <th>text</th>\n",
       "      <th>retweeted_status_id</th>\n",
       "      <th>retweeted_status_user_id</th>\n",
       "      <th>retweeted_status_timestamp</th>\n",
       "      <th>expanded_urls</th>\n",
       "      <th>rating_numerator</th>\n",
       "      <th>rating_denominator</th>\n",
       "      <th>name</th>\n",
       "      <th>doggo</th>\n",
       "      <th>floofer</th>\n",
       "      <th>pupper</th>\n",
       "      <th>puppo</th>\n",
       "    </tr>\n",
       "  </thead>\n",
       "  <tbody>\n",
       "    <tr>\n",
       "      <th>19</th>\n",
       "      <td>888202515573088257</td>\n",
       "      <td>NaN</td>\n",
       "      <td>NaN</td>\n",
       "      <td>2017-07-21 01:02:36 +0000</td>\n",
       "      <td>&lt;a href=\"http://twitter.com/download/iphone\" r...</td>\n",
       "      <td>RT @dog_rates: This is Canela. She attempted s...</td>\n",
       "      <td>8.874740e+17</td>\n",
       "      <td>4.196984e+09</td>\n",
       "      <td>2017-07-19 00:47:34 +0000</td>\n",
       "      <td>https://twitter.com/dog_rates/status/887473957...</td>\n",
       "      <td>13</td>\n",
       "      <td>10</td>\n",
       "      <td>Canela</td>\n",
       "      <td>None</td>\n",
       "      <td>None</td>\n",
       "      <td>None</td>\n",
       "      <td>None</td>\n",
       "    </tr>\n",
       "    <tr>\n",
       "      <th>32</th>\n",
       "      <td>886054160059072513</td>\n",
       "      <td>NaN</td>\n",
       "      <td>NaN</td>\n",
       "      <td>2017-07-15 02:45:48 +0000</td>\n",
       "      <td>&lt;a href=\"http://twitter.com/download/iphone\" r...</td>\n",
       "      <td>RT @Athletics: 12/10 #BATP https://t.co/WxwJmv...</td>\n",
       "      <td>8.860537e+17</td>\n",
       "      <td>1.960740e+07</td>\n",
       "      <td>2017-07-15 02:44:07 +0000</td>\n",
       "      <td>https://twitter.com/dog_rates/status/886053434...</td>\n",
       "      <td>12</td>\n",
       "      <td>10</td>\n",
       "      <td>None</td>\n",
       "      <td>None</td>\n",
       "      <td>None</td>\n",
       "      <td>None</td>\n",
       "      <td>None</td>\n",
       "    </tr>\n",
       "    <tr>\n",
       "      <th>36</th>\n",
       "      <td>885311592912609280</td>\n",
       "      <td>NaN</td>\n",
       "      <td>NaN</td>\n",
       "      <td>2017-07-13 01:35:06 +0000</td>\n",
       "      <td>&lt;a href=\"http://twitter.com/download/iphone\" r...</td>\n",
       "      <td>RT @dog_rates: This is Lilly. She just paralle...</td>\n",
       "      <td>8.305833e+17</td>\n",
       "      <td>4.196984e+09</td>\n",
       "      <td>2017-02-12 01:04:29 +0000</td>\n",
       "      <td>https://twitter.com/dog_rates/status/830583320...</td>\n",
       "      <td>13</td>\n",
       "      <td>10</td>\n",
       "      <td>Lilly</td>\n",
       "      <td>None</td>\n",
       "      <td>None</td>\n",
       "      <td>None</td>\n",
       "      <td>None</td>\n",
       "    </tr>\n",
       "    <tr>\n",
       "      <th>68</th>\n",
       "      <td>879130579576475649</td>\n",
       "      <td>NaN</td>\n",
       "      <td>NaN</td>\n",
       "      <td>2017-06-26 00:13:58 +0000</td>\n",
       "      <td>&lt;a href=\"http://twitter.com/download/iphone\" r...</td>\n",
       "      <td>RT @dog_rates: This is Emmy. She was adopted t...</td>\n",
       "      <td>8.780576e+17</td>\n",
       "      <td>4.196984e+09</td>\n",
       "      <td>2017-06-23 01:10:23 +0000</td>\n",
       "      <td>https://twitter.com/dog_rates/status/878057613...</td>\n",
       "      <td>14</td>\n",
       "      <td>10</td>\n",
       "      <td>Emmy</td>\n",
       "      <td>None</td>\n",
       "      <td>None</td>\n",
       "      <td>None</td>\n",
       "      <td>None</td>\n",
       "    </tr>\n",
       "    <tr>\n",
       "      <th>73</th>\n",
       "      <td>878404777348136964</td>\n",
       "      <td>NaN</td>\n",
       "      <td>NaN</td>\n",
       "      <td>2017-06-24 00:09:53 +0000</td>\n",
       "      <td>&lt;a href=\"http://twitter.com/download/iphone\" r...</td>\n",
       "      <td>RT @dog_rates: Meet Shadow. In an attempt to r...</td>\n",
       "      <td>8.782815e+17</td>\n",
       "      <td>4.196984e+09</td>\n",
       "      <td>2017-06-23 16:00:04 +0000</td>\n",
       "      <td>https://www.gofundme.com/3yd6y1c,https://twitt...</td>\n",
       "      <td>13</td>\n",
       "      <td>10</td>\n",
       "      <td>Shadow</td>\n",
       "      <td>None</td>\n",
       "      <td>None</td>\n",
       "      <td>None</td>\n",
       "      <td>None</td>\n",
       "    </tr>\n",
       "    <tr>\n",
       "      <th>...</th>\n",
       "      <td>...</td>\n",
       "      <td>...</td>\n",
       "      <td>...</td>\n",
       "      <td>...</td>\n",
       "      <td>...</td>\n",
       "      <td>...</td>\n",
       "      <td>...</td>\n",
       "      <td>...</td>\n",
       "      <td>...</td>\n",
       "      <td>...</td>\n",
       "      <td>...</td>\n",
       "      <td>...</td>\n",
       "      <td>...</td>\n",
       "      <td>...</td>\n",
       "      <td>...</td>\n",
       "      <td>...</td>\n",
       "      <td>...</td>\n",
       "    </tr>\n",
       "    <tr>\n",
       "      <th>1023</th>\n",
       "      <td>746521445350707200</td>\n",
       "      <td>NaN</td>\n",
       "      <td>NaN</td>\n",
       "      <td>2016-06-25 01:52:36 +0000</td>\n",
       "      <td>&lt;a href=\"http://twitter.com/download/iphone\" r...</td>\n",
       "      <td>RT @dog_rates: This is Shaggy. He knows exactl...</td>\n",
       "      <td>6.678667e+17</td>\n",
       "      <td>4.196984e+09</td>\n",
       "      <td>2015-11-21 00:46:50 +0000</td>\n",
       "      <td>https://twitter.com/dog_rates/status/667866724...</td>\n",
       "      <td>10</td>\n",
       "      <td>10</td>\n",
       "      <td>Shaggy</td>\n",
       "      <td>None</td>\n",
       "      <td>None</td>\n",
       "      <td>None</td>\n",
       "      <td>None</td>\n",
       "    </tr>\n",
       "    <tr>\n",
       "      <th>1043</th>\n",
       "      <td>743835915802583040</td>\n",
       "      <td>NaN</td>\n",
       "      <td>NaN</td>\n",
       "      <td>2016-06-17 16:01:16 +0000</td>\n",
       "      <td>&lt;a href=\"http://twitter.com/download/iphone\" r...</td>\n",
       "      <td>RT @dog_rates: Extremely intelligent dog here....</td>\n",
       "      <td>6.671383e+17</td>\n",
       "      <td>4.196984e+09</td>\n",
       "      <td>2015-11-19 00:32:12 +0000</td>\n",
       "      <td>https://twitter.com/dog_rates/status/667138269...</td>\n",
       "      <td>10</td>\n",
       "      <td>10</td>\n",
       "      <td>None</td>\n",
       "      <td>None</td>\n",
       "      <td>None</td>\n",
       "      <td>None</td>\n",
       "      <td>None</td>\n",
       "    </tr>\n",
       "    <tr>\n",
       "      <th>1242</th>\n",
       "      <td>711998809858043904</td>\n",
       "      <td>NaN</td>\n",
       "      <td>NaN</td>\n",
       "      <td>2016-03-21 19:31:59 +0000</td>\n",
       "      <td>&lt;a href=\"http://twitter.com/download/iphone\" r...</td>\n",
       "      <td>RT @twitter: @dog_rates Awesome Tweet! 12/10. ...</td>\n",
       "      <td>7.119983e+17</td>\n",
       "      <td>7.832140e+05</td>\n",
       "      <td>2016-03-21 19:29:52 +0000</td>\n",
       "      <td>https://twitter.com/twitter/status/71199827977...</td>\n",
       "      <td>12</td>\n",
       "      <td>10</td>\n",
       "      <td>None</td>\n",
       "      <td>None</td>\n",
       "      <td>None</td>\n",
       "      <td>None</td>\n",
       "      <td>None</td>\n",
       "    </tr>\n",
       "    <tr>\n",
       "      <th>2259</th>\n",
       "      <td>667550904950915073</td>\n",
       "      <td>NaN</td>\n",
       "      <td>NaN</td>\n",
       "      <td>2015-11-20 03:51:52 +0000</td>\n",
       "      <td>&lt;a href=\"http://twitter.com\" rel=\"nofollow\"&gt;Tw...</td>\n",
       "      <td>RT @dogratingrating: Exceptional talent. Origi...</td>\n",
       "      <td>6.675487e+17</td>\n",
       "      <td>4.296832e+09</td>\n",
       "      <td>2015-11-20 03:43:06 +0000</td>\n",
       "      <td>https://twitter.com/dogratingrating/status/667...</td>\n",
       "      <td>12</td>\n",
       "      <td>10</td>\n",
       "      <td>None</td>\n",
       "      <td>None</td>\n",
       "      <td>None</td>\n",
       "      <td>None</td>\n",
       "      <td>None</td>\n",
       "    </tr>\n",
       "    <tr>\n",
       "      <th>2260</th>\n",
       "      <td>667550882905632768</td>\n",
       "      <td>NaN</td>\n",
       "      <td>NaN</td>\n",
       "      <td>2015-11-20 03:51:47 +0000</td>\n",
       "      <td>&lt;a href=\"http://twitter.com\" rel=\"nofollow\"&gt;Tw...</td>\n",
       "      <td>RT @dogratingrating: Unoriginal idea. Blatant ...</td>\n",
       "      <td>6.675484e+17</td>\n",
       "      <td>4.296832e+09</td>\n",
       "      <td>2015-11-20 03:41:59 +0000</td>\n",
       "      <td>https://twitter.com/dogratingrating/status/667...</td>\n",
       "      <td>5</td>\n",
       "      <td>10</td>\n",
       "      <td>None</td>\n",
       "      <td>None</td>\n",
       "      <td>None</td>\n",
       "      <td>None</td>\n",
       "      <td>None</td>\n",
       "    </tr>\n",
       "  </tbody>\n",
       "</table>\n",
       "<p>181 rows × 17 columns</p>\n",
       "</div>"
      ],
      "text/plain": [
       "                tweet_id  in_reply_to_status_id  in_reply_to_user_id  \\\n",
       "19    888202515573088257                    NaN                  NaN   \n",
       "32    886054160059072513                    NaN                  NaN   \n",
       "36    885311592912609280                    NaN                  NaN   \n",
       "68    879130579576475649                    NaN                  NaN   \n",
       "73    878404777348136964                    NaN                  NaN   \n",
       "...                  ...                    ...                  ...   \n",
       "1023  746521445350707200                    NaN                  NaN   \n",
       "1043  743835915802583040                    NaN                  NaN   \n",
       "1242  711998809858043904                    NaN                  NaN   \n",
       "2259  667550904950915073                    NaN                  NaN   \n",
       "2260  667550882905632768                    NaN                  NaN   \n",
       "\n",
       "                      timestamp  \\\n",
       "19    2017-07-21 01:02:36 +0000   \n",
       "32    2017-07-15 02:45:48 +0000   \n",
       "36    2017-07-13 01:35:06 +0000   \n",
       "68    2017-06-26 00:13:58 +0000   \n",
       "73    2017-06-24 00:09:53 +0000   \n",
       "...                         ...   \n",
       "1023  2016-06-25 01:52:36 +0000   \n",
       "1043  2016-06-17 16:01:16 +0000   \n",
       "1242  2016-03-21 19:31:59 +0000   \n",
       "2259  2015-11-20 03:51:52 +0000   \n",
       "2260  2015-11-20 03:51:47 +0000   \n",
       "\n",
       "                                                 source  \\\n",
       "19    <a href=\"http://twitter.com/download/iphone\" r...   \n",
       "32    <a href=\"http://twitter.com/download/iphone\" r...   \n",
       "36    <a href=\"http://twitter.com/download/iphone\" r...   \n",
       "68    <a href=\"http://twitter.com/download/iphone\" r...   \n",
       "73    <a href=\"http://twitter.com/download/iphone\" r...   \n",
       "...                                                 ...   \n",
       "1023  <a href=\"http://twitter.com/download/iphone\" r...   \n",
       "1043  <a href=\"http://twitter.com/download/iphone\" r...   \n",
       "1242  <a href=\"http://twitter.com/download/iphone\" r...   \n",
       "2259  <a href=\"http://twitter.com\" rel=\"nofollow\">Tw...   \n",
       "2260  <a href=\"http://twitter.com\" rel=\"nofollow\">Tw...   \n",
       "\n",
       "                                                   text  retweeted_status_id  \\\n",
       "19    RT @dog_rates: This is Canela. She attempted s...         8.874740e+17   \n",
       "32    RT @Athletics: 12/10 #BATP https://t.co/WxwJmv...         8.860537e+17   \n",
       "36    RT @dog_rates: This is Lilly. She just paralle...         8.305833e+17   \n",
       "68    RT @dog_rates: This is Emmy. She was adopted t...         8.780576e+17   \n",
       "73    RT @dog_rates: Meet Shadow. In an attempt to r...         8.782815e+17   \n",
       "...                                                 ...                  ...   \n",
       "1023  RT @dog_rates: This is Shaggy. He knows exactl...         6.678667e+17   \n",
       "1043  RT @dog_rates: Extremely intelligent dog here....         6.671383e+17   \n",
       "1242  RT @twitter: @dog_rates Awesome Tweet! 12/10. ...         7.119983e+17   \n",
       "2259  RT @dogratingrating: Exceptional talent. Origi...         6.675487e+17   \n",
       "2260  RT @dogratingrating: Unoriginal idea. Blatant ...         6.675484e+17   \n",
       "\n",
       "      retweeted_status_user_id retweeted_status_timestamp  \\\n",
       "19                4.196984e+09  2017-07-19 00:47:34 +0000   \n",
       "32                1.960740e+07  2017-07-15 02:44:07 +0000   \n",
       "36                4.196984e+09  2017-02-12 01:04:29 +0000   \n",
       "68                4.196984e+09  2017-06-23 01:10:23 +0000   \n",
       "73                4.196984e+09  2017-06-23 16:00:04 +0000   \n",
       "...                        ...                        ...   \n",
       "1023              4.196984e+09  2015-11-21 00:46:50 +0000   \n",
       "1043              4.196984e+09  2015-11-19 00:32:12 +0000   \n",
       "1242              7.832140e+05  2016-03-21 19:29:52 +0000   \n",
       "2259              4.296832e+09  2015-11-20 03:43:06 +0000   \n",
       "2260              4.296832e+09  2015-11-20 03:41:59 +0000   \n",
       "\n",
       "                                          expanded_urls  rating_numerator  \\\n",
       "19    https://twitter.com/dog_rates/status/887473957...                13   \n",
       "32    https://twitter.com/dog_rates/status/886053434...                12   \n",
       "36    https://twitter.com/dog_rates/status/830583320...                13   \n",
       "68    https://twitter.com/dog_rates/status/878057613...                14   \n",
       "73    https://www.gofundme.com/3yd6y1c,https://twitt...                13   \n",
       "...                                                 ...               ...   \n",
       "1023  https://twitter.com/dog_rates/status/667866724...                10   \n",
       "1043  https://twitter.com/dog_rates/status/667138269...                10   \n",
       "1242  https://twitter.com/twitter/status/71199827977...                12   \n",
       "2259  https://twitter.com/dogratingrating/status/667...                12   \n",
       "2260  https://twitter.com/dogratingrating/status/667...                 5   \n",
       "\n",
       "      rating_denominator    name doggo floofer pupper puppo  \n",
       "19                    10  Canela  None    None   None  None  \n",
       "32                    10    None  None    None   None  None  \n",
       "36                    10   Lilly  None    None   None  None  \n",
       "68                    10    Emmy  None    None   None  None  \n",
       "73                    10  Shadow  None    None   None  None  \n",
       "...                  ...     ...   ...     ...    ...   ...  \n",
       "1023                  10  Shaggy  None    None   None  None  \n",
       "1043                  10    None  None    None   None  None  \n",
       "1242                  10    None  None    None   None  None  \n",
       "2259                  10    None  None    None   None  None  \n",
       "2260                  10    None  None    None   None  None  \n",
       "\n",
       "[181 rows x 17 columns]"
      ]
     },
     "execution_count": 34,
     "metadata": {},
     "output_type": "execute_result"
    }
   ],
   "source": [
    "archive[archive.retweeted_status_id.isnull()==False]"
   ]
  },
  {
   "cell_type": "code",
   "execution_count": 35,
   "metadata": {},
   "outputs": [
    {
     "data": {
      "text/html": [
       "<div>\n",
       "<style scoped>\n",
       "    .dataframe tbody tr th:only-of-type {\n",
       "        vertical-align: middle;\n",
       "    }\n",
       "\n",
       "    .dataframe tbody tr th {\n",
       "        vertical-align: top;\n",
       "    }\n",
       "\n",
       "    .dataframe thead th {\n",
       "        text-align: right;\n",
       "    }\n",
       "</style>\n",
       "<table border=\"1\" class=\"dataframe\">\n",
       "  <thead>\n",
       "    <tr style=\"text-align: right;\">\n",
       "      <th></th>\n",
       "      <th>tweet_id</th>\n",
       "      <th>jpg_url</th>\n",
       "      <th>img_num</th>\n",
       "      <th>p1</th>\n",
       "      <th>p1_conf</th>\n",
       "      <th>p1_dog</th>\n",
       "      <th>p2</th>\n",
       "      <th>p2_conf</th>\n",
       "      <th>p2_dog</th>\n",
       "      <th>p3</th>\n",
       "      <th>p3_conf</th>\n",
       "      <th>p3_dog</th>\n",
       "    </tr>\n",
       "  </thead>\n",
       "  <tbody>\n",
       "    <tr>\n",
       "      <th>0</th>\n",
       "      <td>666020888022790149</td>\n",
       "      <td>https://pbs.twimg.com/media/CT4udn0WwAA0aMy.jpg</td>\n",
       "      <td>1</td>\n",
       "      <td>Welsh_springer_spaniel</td>\n",
       "      <td>0.465074</td>\n",
       "      <td>True</td>\n",
       "      <td>collie</td>\n",
       "      <td>0.156665</td>\n",
       "      <td>True</td>\n",
       "      <td>Shetland_sheepdog</td>\n",
       "      <td>0.061428</td>\n",
       "      <td>True</td>\n",
       "    </tr>\n",
       "    <tr>\n",
       "      <th>1</th>\n",
       "      <td>666029285002620928</td>\n",
       "      <td>https://pbs.twimg.com/media/CT42GRgUYAA5iDo.jpg</td>\n",
       "      <td>1</td>\n",
       "      <td>redbone</td>\n",
       "      <td>0.506826</td>\n",
       "      <td>True</td>\n",
       "      <td>miniature_pinscher</td>\n",
       "      <td>0.074192</td>\n",
       "      <td>True</td>\n",
       "      <td>Rhodesian_ridgeback</td>\n",
       "      <td>0.072010</td>\n",
       "      <td>True</td>\n",
       "    </tr>\n",
       "    <tr>\n",
       "      <th>2</th>\n",
       "      <td>666033412701032449</td>\n",
       "      <td>https://pbs.twimg.com/media/CT4521TWwAEvMyu.jpg</td>\n",
       "      <td>1</td>\n",
       "      <td>German_shepherd</td>\n",
       "      <td>0.596461</td>\n",
       "      <td>True</td>\n",
       "      <td>malinois</td>\n",
       "      <td>0.138584</td>\n",
       "      <td>True</td>\n",
       "      <td>bloodhound</td>\n",
       "      <td>0.116197</td>\n",
       "      <td>True</td>\n",
       "    </tr>\n",
       "    <tr>\n",
       "      <th>3</th>\n",
       "      <td>666044226329800704</td>\n",
       "      <td>https://pbs.twimg.com/media/CT5Dr8HUEAA-lEu.jpg</td>\n",
       "      <td>1</td>\n",
       "      <td>Rhodesian_ridgeback</td>\n",
       "      <td>0.408143</td>\n",
       "      <td>True</td>\n",
       "      <td>redbone</td>\n",
       "      <td>0.360687</td>\n",
       "      <td>True</td>\n",
       "      <td>miniature_pinscher</td>\n",
       "      <td>0.222752</td>\n",
       "      <td>True</td>\n",
       "    </tr>\n",
       "    <tr>\n",
       "      <th>4</th>\n",
       "      <td>666049248165822465</td>\n",
       "      <td>https://pbs.twimg.com/media/CT5IQmsXIAAKY4A.jpg</td>\n",
       "      <td>1</td>\n",
       "      <td>miniature_pinscher</td>\n",
       "      <td>0.560311</td>\n",
       "      <td>True</td>\n",
       "      <td>Rottweiler</td>\n",
       "      <td>0.243682</td>\n",
       "      <td>True</td>\n",
       "      <td>Doberman</td>\n",
       "      <td>0.154629</td>\n",
       "      <td>True</td>\n",
       "    </tr>\n",
       "  </tbody>\n",
       "</table>\n",
       "</div>"
      ],
      "text/plain": [
       "             tweet_id                                          jpg_url  \\\n",
       "0  666020888022790149  https://pbs.twimg.com/media/CT4udn0WwAA0aMy.jpg   \n",
       "1  666029285002620928  https://pbs.twimg.com/media/CT42GRgUYAA5iDo.jpg   \n",
       "2  666033412701032449  https://pbs.twimg.com/media/CT4521TWwAEvMyu.jpg   \n",
       "3  666044226329800704  https://pbs.twimg.com/media/CT5Dr8HUEAA-lEu.jpg   \n",
       "4  666049248165822465  https://pbs.twimg.com/media/CT5IQmsXIAAKY4A.jpg   \n",
       "\n",
       "   img_num                      p1   p1_conf  p1_dog                  p2  \\\n",
       "0        1  Welsh_springer_spaniel  0.465074    True              collie   \n",
       "1        1                 redbone  0.506826    True  miniature_pinscher   \n",
       "2        1         German_shepherd  0.596461    True            malinois   \n",
       "3        1     Rhodesian_ridgeback  0.408143    True             redbone   \n",
       "4        1      miniature_pinscher  0.560311    True          Rottweiler   \n",
       "\n",
       "    p2_conf  p2_dog                   p3   p3_conf  p3_dog  \n",
       "0  0.156665    True    Shetland_sheepdog  0.061428    True  \n",
       "1  0.074192    True  Rhodesian_ridgeback  0.072010    True  \n",
       "2  0.138584    True           bloodhound  0.116197    True  \n",
       "3  0.360687    True   miniature_pinscher  0.222752    True  \n",
       "4  0.243682    True             Doberman  0.154629    True  "
      ]
     },
     "execution_count": 35,
     "metadata": {},
     "output_type": "execute_result"
    }
   ],
   "source": [
    "image_predictions.head()"
   ]
  },
  {
   "cell_type": "code",
   "execution_count": 36,
   "metadata": {},
   "outputs": [
    {
     "data": {
      "text/plain": [
       "True     1532\n",
       "False     543\n",
       "Name: p1_dog, dtype: int64"
      ]
     },
     "execution_count": 36,
     "metadata": {},
     "output_type": "execute_result"
    }
   ],
   "source": [
    "image_predictions.p1_dog.value_counts()"
   ]
  },
  {
   "cell_type": "code",
   "execution_count": 37,
   "metadata": {},
   "outputs": [
    {
     "data": {
      "text/plain": [
       "True     1553\n",
       "False     522\n",
       "Name: p2_dog, dtype: int64"
      ]
     },
     "execution_count": 37,
     "metadata": {},
     "output_type": "execute_result"
    }
   ],
   "source": [
    "image_predictions.p2_dog.value_counts()"
   ]
  },
  {
   "cell_type": "code",
   "execution_count": 38,
   "metadata": {},
   "outputs": [
    {
     "data": {
      "text/plain": [
       "True     1499\n",
       "False     576\n",
       "Name: p3_dog, dtype: int64"
      ]
     },
     "execution_count": 38,
     "metadata": {},
     "output_type": "execute_result"
    }
   ],
   "source": [
    "image_predictions.p3_dog.value_counts()"
   ]
  },
  {
   "cell_type": "code",
   "execution_count": 39,
   "metadata": {},
   "outputs": [
    {
     "data": {
      "text/plain": [
       "count                          2356\n",
       "unique                         2356\n",
       "top       2016-07-22 00:43:32 +0000\n",
       "freq                              1\n",
       "Name: timestamp, dtype: object"
      ]
     },
     "execution_count": 39,
     "metadata": {},
     "output_type": "execute_result"
    }
   ],
   "source": [
    "archive.timestamp.describe()"
   ]
  },
  {
   "cell_type": "code",
   "execution_count": 40,
   "metadata": {},
   "outputs": [
    {
     "data": {
      "text/plain": [
       "181"
      ]
     },
     "execution_count": 40,
     "metadata": {},
     "output_type": "execute_result"
    }
   ],
   "source": [
    "len(archive[archive.retweeted_status_id.isnull() == False])"
   ]
  },
  {
   "cell_type": "code",
   "execution_count": 41,
   "metadata": {},
   "outputs": [
    {
     "data": {
      "text/plain": [
       "'<a href=\"http://twitter.com/download/iphone\" rel=\"nofollow\">Twitter for iPhone</a>'"
      ]
     },
     "execution_count": 41,
     "metadata": {},
     "output_type": "execute_result"
    }
   ],
   "source": [
    "list(archive[archive['expanded_urls'].isnull()]['source'])[6]"
   ]
  },
  {
   "cell_type": "code",
   "execution_count": 42,
   "metadata": {},
   "outputs": [
    {
     "data": {
      "text/plain": [
       "0"
      ]
     },
     "execution_count": 42,
     "metadata": {},
     "output_type": "execute_result"
    }
   ],
   "source": [
    "sum(archive.duplicated())"
   ]
  },
  {
   "cell_type": "code",
   "execution_count": 43,
   "metadata": {},
   "outputs": [
    {
     "data": {
      "text/html": [
       "<div>\n",
       "<style scoped>\n",
       "    .dataframe tbody tr th:only-of-type {\n",
       "        vertical-align: middle;\n",
       "    }\n",
       "\n",
       "    .dataframe tbody tr th {\n",
       "        vertical-align: top;\n",
       "    }\n",
       "\n",
       "    .dataframe thead th {\n",
       "        text-align: right;\n",
       "    }\n",
       "</style>\n",
       "<table border=\"1\" class=\"dataframe\">\n",
       "  <thead>\n",
       "    <tr style=\"text-align: right;\">\n",
       "      <th></th>\n",
       "      <th>tweet_id</th>\n",
       "      <th>in_reply_to_status_id</th>\n",
       "      <th>in_reply_to_user_id</th>\n",
       "      <th>timestamp</th>\n",
       "      <th>source</th>\n",
       "      <th>text</th>\n",
       "      <th>retweeted_status_id</th>\n",
       "      <th>retweeted_status_user_id</th>\n",
       "      <th>retweeted_status_timestamp</th>\n",
       "      <th>expanded_urls</th>\n",
       "      <th>rating_numerator</th>\n",
       "      <th>rating_denominator</th>\n",
       "      <th>name</th>\n",
       "      <th>doggo</th>\n",
       "      <th>floofer</th>\n",
       "      <th>pupper</th>\n",
       "      <th>puppo</th>\n",
       "    </tr>\n",
       "  </thead>\n",
       "  <tbody>\n",
       "    <tr>\n",
       "      <th>979</th>\n",
       "      <td>749981277374128128</td>\n",
       "      <td>NaN</td>\n",
       "      <td>NaN</td>\n",
       "      <td>2016-07-04 15:00:45 +0000</td>\n",
       "      <td>&lt;a href=\"https://about.twitter.com/products/tw...</td>\n",
       "      <td>This is Atticus. He's quite simply America af....</td>\n",
       "      <td>NaN</td>\n",
       "      <td>NaN</td>\n",
       "      <td>NaN</td>\n",
       "      <td>https://twitter.com/dog_rates/status/749981277...</td>\n",
       "      <td>1776</td>\n",
       "      <td>10</td>\n",
       "      <td>Atticus</td>\n",
       "      <td>None</td>\n",
       "      <td>None</td>\n",
       "      <td>None</td>\n",
       "      <td>None</td>\n",
       "    </tr>\n",
       "  </tbody>\n",
       "</table>\n",
       "</div>"
      ],
      "text/plain": [
       "               tweet_id  in_reply_to_status_id  in_reply_to_user_id  \\\n",
       "979  749981277374128128                    NaN                  NaN   \n",
       "\n",
       "                     timestamp  \\\n",
       "979  2016-07-04 15:00:45 +0000   \n",
       "\n",
       "                                                source  \\\n",
       "979  <a href=\"https://about.twitter.com/products/tw...   \n",
       "\n",
       "                                                  text  retweeted_status_id  \\\n",
       "979  This is Atticus. He's quite simply America af....                  NaN   \n",
       "\n",
       "     retweeted_status_user_id retweeted_status_timestamp  \\\n",
       "979                       NaN                        NaN   \n",
       "\n",
       "                                         expanded_urls  rating_numerator  \\\n",
       "979  https://twitter.com/dog_rates/status/749981277...              1776   \n",
       "\n",
       "     rating_denominator     name doggo floofer pupper puppo  \n",
       "979                  10  Atticus  None    None   None  None  "
      ]
     },
     "execution_count": 43,
     "metadata": {},
     "output_type": "execute_result"
    }
   ],
   "source": [
    "max_rated = archive.rating_numerator.max()\n",
    "high_rated_dog_data = archive[archive['rating_numerator']==max_rated]\n",
    "high_rated_dog_data"
   ]
  },
  {
   "cell_type": "code",
   "execution_count": 44,
   "metadata": {},
   "outputs": [
    {
     "data": {
      "text/plain": [
       "315     https://twitter.com/dog_rates/status/835152434...\n",
       "1016    https://twitter.com/dog_rates/status/746906459...\n",
       "Name: expanded_urls, dtype: object"
      ]
     },
     "execution_count": 44,
     "metadata": {},
     "output_type": "execute_result"
    }
   ],
   "source": [
    "low_rated = archive.rating_numerator.min()\n",
    "low_rated_dog_data = archive[archive['rating_numerator']==low_rated]\n",
    "low_rated_dog_data['expanded_urls'] #seems irrelevant, drop them"
   ]
  },
  {
   "cell_type": "code",
   "execution_count": 45,
   "metadata": {},
   "outputs": [
    {
     "data": {
      "text/plain": [
       "1270    https://pbs.twimg.com/media/CmgBZ7kWcAAlzFD.jpg\n",
       "Name: jpg_url, dtype: object"
      ]
     },
     "execution_count": 45,
     "metadata": {},
     "output_type": "execute_result"
    }
   ],
   "source": [
    "high_rated_image = image_predictions[image_predictions['tweet_id']==749981277374128128].jpg_url\n",
    "# high_rated_image = str(high_rated_image)\n",
    "# high_rated_image = high_rated_image[len('1270'):].strip()\n",
    "high_rated_image"
   ]
  },
  {
   "cell_type": "code",
   "execution_count": 46,
   "metadata": {},
   "outputs": [
    {
     "data": {
      "text/plain": [
       "('high_rated_image.jpg', <http.client.HTTPMessage at 0x7f9b6c0e3eb0>)"
      ]
     },
     "execution_count": 46,
     "metadata": {},
     "output_type": "execute_result"
    }
   ],
   "source": [
    "import urllib\n",
    "\n",
    "urllib.request.urlretrieve(' https://pbs.twimg.com/media/CmgBZ7kWcAAlzFD.jpg', \"high_rated_image.jpg\")"
   ]
  },
  {
   "cell_type": "code",
   "execution_count": 139,
   "metadata": {
    "scrolled": true
   },
   "outputs": [
    {
     "data": {
      "text/plain": [
       "10     1967\n",
       "50        3\n",
       "80        2\n",
       "11        2\n",
       "170       1\n",
       "150       1\n",
       "130       1\n",
       "120       1\n",
       "110       1\n",
       "90        1\n",
       "70        1\n",
       "40        1\n",
       "20        1\n",
       "7         1\n",
       "2         1\n",
       "Name: rating_denominator, dtype: int64"
      ]
     },
     "execution_count": 139,
     "metadata": {},
     "output_type": "execute_result"
    }
   ],
   "source": [
    "archive_clean_merged['rating_denominator'].value_counts() ##possible issue"
   ]
  },
  {
   "cell_type": "code",
   "execution_count": 145,
   "metadata": {},
   "outputs": [
    {
     "data": {
      "text/plain": [
       "12       448\n",
       "10       418\n",
       "11       396\n",
       "13       257\n",
       "9        151\n",
       "8         95\n",
       "7         52\n",
       "14        35\n",
       "6         32\n",
       "5         32\n",
       "3         19\n",
       "4         16\n",
       "2          9\n",
       "1          5\n",
       "121        1\n",
       "24         1\n",
       "80         1\n",
       "45         1\n",
       "88         1\n",
       "99         1\n",
       "144        1\n",
       "84         1\n",
       "11.26      1\n",
       "44         1\n",
       "50         1\n",
       "13.5       1\n",
       "143        1\n",
       "60         1\n",
       "11.27      1\n",
       "1776       1\n",
       "9.75       1\n",
       "420        1\n",
       "165        1\n",
       "204        1\n",
       "Name: rating_numerator, dtype: int64"
      ]
     },
     "execution_count": 145,
     "metadata": {},
     "output_type": "execute_result"
    }
   ],
   "source": [
    "archive_clean_merged['rating_numerator'].value_counts()"
   ]
  },
  {
   "cell_type": "code",
   "execution_count": 146,
   "metadata": {},
   "outputs": [
    {
     "data": {
      "text/plain": [
       "'99'"
      ]
     },
     "execution_count": 146,
     "metadata": {},
     "output_type": "execute_result"
    }
   ],
   "source": [
    "archive_clean_merged['rating_numerator'].max()"
   ]
  },
  {
   "cell_type": "markdown",
   "metadata": {},
   "source": [
    "\n",
    "### <font color='purple'> Tidiness issues</font>\n",
    "\n",
    "- doggo, floofer, pupper, puppo are in several columns!\n",
    "- Three data frames insted of one.\n",
    "\n",
    "### <font color='purple'> Quality issues</font>\n",
    "\n",
    "**General**\n",
    "- Doggo, Floofer, Pupper and Puppo don't have nulls & have strings \"none\"\n",
    "- Some data are not dog ratings \n",
    "- Some data are retweets.\n",
    "- Duplicates\n",
    "- Nedds number of retweets and likes columns\n",
    "- Some rows with multiple dog stages\n",
    "- For dog ratings, there are some observations with decimal ratings\n",
    "\n",
    "**Data Types:**\n",
    "- doggo, floofer, pupper, puppo are strings rather than categorial types \n",
    ": [id] is integer rather than string , timestamp is object!\n",
    "- retweeted_status_id and retweeted_status_user_id are folat rather than int\n",
    "\n",
    "**Undescreptive Names:**\n",
    "- retweeted_status_id, retweeted_status_user_id  and retweeted_status_timestamp \n",
    "\n",
    "-  p1-p3 (in predictions data)\n",
    "\n",
    "**Completeness:**\n",
    "- missing values of expanded_urls\n",
    "- missing values of [retweeted_status_timestamp, retweeted_status_user_id, retweeted_status_id,in_reply_to_status_id, in_reply_to_user_id ]\n",
    "#- think of adding dog_data columns... like retweets and likes"
   ]
  },
  {
   "cell_type": "markdown",
   "metadata": {},
   "source": [
    "# <font color='purple'> Clean </font>\n",
    "-  The result was a very high quality and tidy master pandas DataFrames. The issues that satisfy the Project Motivation will be cleaned."
   ]
  },
  {
   "cell_type": "code",
   "execution_count": 47,
   "metadata": {},
   "outputs": [],
   "source": [
    "archive_copy = archive.copy()\n",
    "predictions_copy = image_predictions.copy()"
   ]
  },
  {
   "cell_type": "markdown",
   "metadata": {},
   "source": [
    "#### Define #1 completeness issues\n",
    "\n",
    "##### (1) for the unrelated tweets(retweets and replays)\n",
    "\n",
    "**Remove rows** where retweeted_status_timestamp, retweeted_status_user_id and retweeted_status_id columns contains values (not nulls). and then **drop these columns**.\n",
    "\n",
    "##### (2) For teh expanded_urls:\n",
    "\n",
    "The url alwayse = https://twitter.com/dog_rates/status + the id of the tweet\n",
    "<br>will change all (archive_copy[archive_copy['expanded_urls'].isnull()==False])\n",
    "<br>**Change the archive_copy['expanded_urls']** to be = 'https://twitter.com/dog_rates/status/' + archive_copy['tweet_id']\n",
    "\n",
    "\n",
    "\n"
   ]
  },
  {
   "cell_type": "markdown",
   "metadata": {},
   "source": [
    "#### Code"
   ]
  },
  {
   "cell_type": "code",
   "execution_count": 48,
   "metadata": {},
   "outputs": [],
   "source": [
    "archive_copy = archive_copy[archive_copy.retweeted_status_id.isnull()]\n",
    "archive_copy.drop('retweeted_status_id',axis=1,inplace=True)\n",
    "archive_copy.drop('retweeted_status_user_id',axis=1,inplace=True)\n",
    "archive_copy.drop('retweeted_status_timestamp',axis=1,inplace=True)\n",
    "archive_copy.drop('in_reply_to_status_id',axis=1,inplace=True)\n",
    "archive_copy.drop('in_reply_to_user_id',axis=1,inplace=True)"
   ]
  },
  {
   "cell_type": "code",
   "execution_count": 49,
   "metadata": {},
   "outputs": [],
   "source": [
    "archive_copy.reset_index = True"
   ]
  },
  {
   "cell_type": "code",
   "execution_count": 51,
   "metadata": {},
   "outputs": [
    {
     "name": "stdout",
     "output_type": "stream",
     "text": [
      "https://twitter.com/dog_rates/status/892420643555336193\n",
      "https://twitter.com/dog_rates/status/892177421306343426\n",
      "https://twitter.com/dog_rates/status/891815181378084864\n",
      "https://twitter.com/dog_rates/status/891689557279858688\n",
      "https://twitter.com/dog_rates/status/891327558926688256\n",
      "https://twitter.com/dog_rates/status/891087950875897856\n",
      "https://twitter.com/dog_rates/status/890971913173991426\n",
      "https://twitter.com/dog_rates/status/890729181411237888\n",
      "https://twitter.com/dog_rates/status/890609185150312448\n",
      "https://twitter.com/dog_rates/status/890240255349198849\n",
      "https://twitter.com/dog_rates/status/890006608113172480\n",
      "https://twitter.com/dog_rates/status/889880896479866881\n",
      "https://twitter.com/dog_rates/status/889665388333682689\n",
      "https://twitter.com/dog_rates/status/889638837579907072\n",
      "https://twitter.com/dog_rates/status/889531135344209921\n",
      "https://twitter.com/dog_rates/status/889278841981685760\n",
      "https://twitter.com/dog_rates/status/888917238123831296\n",
      "https://twitter.com/dog_rates/status/888804989199671297\n",
      "https://twitter.com/dog_rates/status/888554962724278272\n"
     ]
    }
   ],
   "source": [
    "str1 = 'https://twitter.com/dog_rates/status/'\n",
    "for i in range (2175):\n",
    "#     print(i)\n",
    "    if i ==19: # will reset indexes\n",
    "        break;\n",
    "    tweet_id = archive_copy['tweet_id'][i]\n",
    "    archive_copy['expanded_urls'] = str1 + str(tweet_id)\n",
    "    \n",
    "    print(archive_copy['expanded_urls'][i])"
   ]
  },
  {
   "cell_type": "markdown",
   "metadata": {},
   "source": [
    "#### Test"
   ]
  },
  {
   "cell_type": "code",
   "execution_count": 52,
   "metadata": {},
   "outputs": [
    {
     "name": "stdout",
     "output_type": "stream",
     "text": [
      "<class 'pandas.core.frame.DataFrame'>\n",
      "Int64Index: 2175 entries, 0 to 2355\n",
      "Data columns (total 12 columns):\n",
      " #   Column              Non-Null Count  Dtype \n",
      "---  ------              --------------  ----- \n",
      " 0   tweet_id            2175 non-null   int64 \n",
      " 1   timestamp           2175 non-null   object\n",
      " 2   source              2175 non-null   object\n",
      " 3   text                2175 non-null   object\n",
      " 4   expanded_urls       2175 non-null   object\n",
      " 5   rating_numerator    2175 non-null   int64 \n",
      " 6   rating_denominator  2175 non-null   int64 \n",
      " 7   name                2175 non-null   object\n",
      " 8   doggo               2175 non-null   object\n",
      " 9   floofer             2175 non-null   object\n",
      " 10  pupper              2175 non-null   object\n",
      " 11  puppo               2175 non-null   object\n",
      "dtypes: int64(3), object(9)\n",
      "memory usage: 300.9+ KB\n"
     ]
    }
   ],
   "source": [
    "archive_copy.info()"
   ]
  },
  {
   "cell_type": "markdown",
   "metadata": {},
   "source": [
    "#### Define2\n",
    "**Undescreptive Names** <br>\n",
    "- Change p1-p3 (in predictions data) to pred_1, pred_2, pred_3"
   ]
  },
  {
   "cell_type": "markdown",
   "metadata": {},
   "source": [
    "#### Code"
   ]
  },
  {
   "cell_type": "code",
   "execution_count": 53,
   "metadata": {},
   "outputs": [],
   "source": [
    "image_predictions.columns = ['tweet_id','jpg_url','img_num','pred_1','p1_conf','p1_dog','pred_2','p2_conf','p2_dog','pred_3','p3_conf','p3_dog']"
   ]
  },
  {
   "cell_type": "markdown",
   "metadata": {},
   "source": [
    "#### Test"
   ]
  },
  {
   "cell_type": "code",
   "execution_count": 54,
   "metadata": {},
   "outputs": [
    {
     "data": {
      "text/html": [
       "<div>\n",
       "<style scoped>\n",
       "    .dataframe tbody tr th:only-of-type {\n",
       "        vertical-align: middle;\n",
       "    }\n",
       "\n",
       "    .dataframe tbody tr th {\n",
       "        vertical-align: top;\n",
       "    }\n",
       "\n",
       "    .dataframe thead th {\n",
       "        text-align: right;\n",
       "    }\n",
       "</style>\n",
       "<table border=\"1\" class=\"dataframe\">\n",
       "  <thead>\n",
       "    <tr style=\"text-align: right;\">\n",
       "      <th></th>\n",
       "      <th>tweet_id</th>\n",
       "      <th>jpg_url</th>\n",
       "      <th>img_num</th>\n",
       "      <th>pred_1</th>\n",
       "      <th>p1_conf</th>\n",
       "      <th>p1_dog</th>\n",
       "      <th>pred_2</th>\n",
       "      <th>p2_conf</th>\n",
       "      <th>p2_dog</th>\n",
       "      <th>pred_3</th>\n",
       "      <th>p3_conf</th>\n",
       "      <th>p3_dog</th>\n",
       "    </tr>\n",
       "  </thead>\n",
       "  <tbody>\n",
       "    <tr>\n",
       "      <th>0</th>\n",
       "      <td>666020888022790149</td>\n",
       "      <td>https://pbs.twimg.com/media/CT4udn0WwAA0aMy.jpg</td>\n",
       "      <td>1</td>\n",
       "      <td>Welsh_springer_spaniel</td>\n",
       "      <td>0.465074</td>\n",
       "      <td>True</td>\n",
       "      <td>collie</td>\n",
       "      <td>0.156665</td>\n",
       "      <td>True</td>\n",
       "      <td>Shetland_sheepdog</td>\n",
       "      <td>0.061428</td>\n",
       "      <td>True</td>\n",
       "    </tr>\n",
       "    <tr>\n",
       "      <th>1</th>\n",
       "      <td>666029285002620928</td>\n",
       "      <td>https://pbs.twimg.com/media/CT42GRgUYAA5iDo.jpg</td>\n",
       "      <td>1</td>\n",
       "      <td>redbone</td>\n",
       "      <td>0.506826</td>\n",
       "      <td>True</td>\n",
       "      <td>miniature_pinscher</td>\n",
       "      <td>0.074192</td>\n",
       "      <td>True</td>\n",
       "      <td>Rhodesian_ridgeback</td>\n",
       "      <td>0.072010</td>\n",
       "      <td>True</td>\n",
       "    </tr>\n",
       "    <tr>\n",
       "      <th>2</th>\n",
       "      <td>666033412701032449</td>\n",
       "      <td>https://pbs.twimg.com/media/CT4521TWwAEvMyu.jpg</td>\n",
       "      <td>1</td>\n",
       "      <td>German_shepherd</td>\n",
       "      <td>0.596461</td>\n",
       "      <td>True</td>\n",
       "      <td>malinois</td>\n",
       "      <td>0.138584</td>\n",
       "      <td>True</td>\n",
       "      <td>bloodhound</td>\n",
       "      <td>0.116197</td>\n",
       "      <td>True</td>\n",
       "    </tr>\n",
       "    <tr>\n",
       "      <th>3</th>\n",
       "      <td>666044226329800704</td>\n",
       "      <td>https://pbs.twimg.com/media/CT5Dr8HUEAA-lEu.jpg</td>\n",
       "      <td>1</td>\n",
       "      <td>Rhodesian_ridgeback</td>\n",
       "      <td>0.408143</td>\n",
       "      <td>True</td>\n",
       "      <td>redbone</td>\n",
       "      <td>0.360687</td>\n",
       "      <td>True</td>\n",
       "      <td>miniature_pinscher</td>\n",
       "      <td>0.222752</td>\n",
       "      <td>True</td>\n",
       "    </tr>\n",
       "    <tr>\n",
       "      <th>4</th>\n",
       "      <td>666049248165822465</td>\n",
       "      <td>https://pbs.twimg.com/media/CT5IQmsXIAAKY4A.jpg</td>\n",
       "      <td>1</td>\n",
       "      <td>miniature_pinscher</td>\n",
       "      <td>0.560311</td>\n",
       "      <td>True</td>\n",
       "      <td>Rottweiler</td>\n",
       "      <td>0.243682</td>\n",
       "      <td>True</td>\n",
       "      <td>Doberman</td>\n",
       "      <td>0.154629</td>\n",
       "      <td>True</td>\n",
       "    </tr>\n",
       "  </tbody>\n",
       "</table>\n",
       "</div>"
      ],
      "text/plain": [
       "             tweet_id                                          jpg_url  \\\n",
       "0  666020888022790149  https://pbs.twimg.com/media/CT4udn0WwAA0aMy.jpg   \n",
       "1  666029285002620928  https://pbs.twimg.com/media/CT42GRgUYAA5iDo.jpg   \n",
       "2  666033412701032449  https://pbs.twimg.com/media/CT4521TWwAEvMyu.jpg   \n",
       "3  666044226329800704  https://pbs.twimg.com/media/CT5Dr8HUEAA-lEu.jpg   \n",
       "4  666049248165822465  https://pbs.twimg.com/media/CT5IQmsXIAAKY4A.jpg   \n",
       "\n",
       "   img_num                  pred_1   p1_conf  p1_dog              pred_2  \\\n",
       "0        1  Welsh_springer_spaniel  0.465074    True              collie   \n",
       "1        1                 redbone  0.506826    True  miniature_pinscher   \n",
       "2        1         German_shepherd  0.596461    True            malinois   \n",
       "3        1     Rhodesian_ridgeback  0.408143    True             redbone   \n",
       "4        1      miniature_pinscher  0.560311    True          Rottweiler   \n",
       "\n",
       "    p2_conf  p2_dog               pred_3   p3_conf  p3_dog  \n",
       "0  0.156665    True    Shetland_sheepdog  0.061428    True  \n",
       "1  0.074192    True  Rhodesian_ridgeback  0.072010    True  \n",
       "2  0.138584    True           bloodhound  0.116197    True  \n",
       "3  0.360687    True   miniature_pinscher  0.222752    True  \n",
       "4  0.243682    True             Doberman  0.154629    True  "
      ]
     },
     "execution_count": 54,
     "metadata": {},
     "output_type": "execute_result"
    }
   ],
   "source": [
    "image_predictions.head()"
   ]
  },
  {
   "cell_type": "markdown",
   "metadata": {},
   "source": [
    "#### Define3\n",
    "- Add one column `dog_stage` with values : doggo, floofer, pupper and puppo \n",
    "- Change the rows with multiple dog stages to have only one stage"
   ]
  },
  {
   "cell_type": "markdown",
   "metadata": {},
   "source": [
    "#### Code"
   ]
  },
  {
   "cell_type": "code",
   "execution_count": 63,
   "metadata": {},
   "outputs": [],
   "source": [
    "# handle none\n",
    "archive_copy.doggo.replace('None', '', inplace=True)\n",
    "archive_copy.floofer.replace('None', '', inplace=True)\n",
    "archive_copy.pupper.replace('None', '', inplace=True)\n",
    "archive_copy.puppo.replace('None', '', inplace=True)"
   ]
  },
  {
   "cell_type": "code",
   "execution_count": 64,
   "metadata": {},
   "outputs": [],
   "source": [
    "# merge into column\n",
    "archive_copy['dog_stage'] = archive_copy.doggo + archive_copy.floofer + archive_copy.pupper + archive_copy.puppo"
   ]
  },
  {
   "cell_type": "code",
   "execution_count": 65,
   "metadata": {},
   "outputs": [],
   "source": [
    "# handle multiple stages\n",
    "archive_copy.loc[archive_copy.dog_stage == 'doggopupper', 'dog_stage'] = 'doggo, pupper'\n",
    "archive_copy.loc[archive_copy.dog_stage == 'doggopuppo', 'dog_stage'] = 'doggo, puppo'\n",
    "archive_copy.loc[archive_copy.dog_stage == 'doggofloofer', 'dog_stage'] = 'doggo, floofer'"
   ]
  },
  {
   "cell_type": "code",
   "execution_count": 66,
   "metadata": {},
   "outputs": [],
   "source": [
    "# handle missing values\n",
    "archive_copy.loc[archive_copy.dog_stage == '', 'dog_stage'] = npp.nan"
   ]
  },
  {
   "cell_type": "markdown",
   "metadata": {},
   "source": [
    "#### Test"
   ]
  },
  {
   "cell_type": "code",
   "execution_count": null,
   "metadata": {},
   "outputs": [],
   "source": [
    "archive_copy.stage.value_counts()"
   ]
  },
  {
   "cell_type": "code",
   "execution_count": null,
   "metadata": {},
   "outputs": [],
   "source": [
    "archive_copy.info()"
   ]
  },
  {
   "cell_type": "code",
   "execution_count": null,
   "metadata": {},
   "outputs": [],
   "source": [
    "image_predictions.info()"
   ]
  },
  {
   "cell_type": "markdown",
   "metadata": {},
   "source": [
    "#### Define4\n",
    "**Data Types:**\n",
    "- Change doggo, floofer, pupper, puppo to categorial types \n",
    "- Change id to string \n",
    "- Change timestamp to date"
   ]
  },
  {
   "cell_type": "markdown",
   "metadata": {},
   "source": [
    "#### Code"
   ]
  },
  {
   "cell_type": "code",
   "execution_count": 67,
   "metadata": {},
   "outputs": [],
   "source": [
    "archive_copy['doggo'] = archive_copy['doggo'].astype('category') \n",
    "archive_copy['floofer'] = archive_copy['floofer'].astype('category')\n",
    "archive_copy['pupper'] = archive_copy['pupper'].astype('category')\n",
    "archive_copy['puppo'] = archive_copy['puppo'].astype('category')\n",
    "archive_copy['tweet_id'] = archive_copy['tweet_id'].astype('str')\n",
    "archive_copy['timestamp'] = archive_copy['timestamp'].astype('datetime64[ns]')"
   ]
  },
  {
   "cell_type": "markdown",
   "metadata": {},
   "source": [
    "#### Test"
   ]
  },
  {
   "cell_type": "code",
   "execution_count": 68,
   "metadata": {},
   "outputs": [
    {
     "data": {
      "text/plain": [
       "tweet_id                      object\n",
       "timestamp             datetime64[ns]\n",
       "source                        object\n",
       "text                          object\n",
       "expanded_urls                 object\n",
       "rating_numerator               int64\n",
       "rating_denominator             int64\n",
       "name                          object\n",
       "doggo                       category\n",
       "floofer                     category\n",
       "pupper                      category\n",
       "puppo                       category\n",
       "dog_stage                     object\n",
       "dtype: object"
      ]
     },
     "execution_count": 68,
     "metadata": {},
     "output_type": "execute_result"
    }
   ],
   "source": [
    "archive_copy.dtypes"
   ]
  },
  {
   "cell_type": "markdown",
   "metadata": {},
   "source": [
    "#### Define5\n",
    "- Remove all duplicates\n",
    "- Remove irrelevants"
   ]
  },
  {
   "cell_type": "markdown",
   "metadata": {},
   "source": [
    "#### Code"
   ]
  },
  {
   "cell_type": "code",
   "execution_count": 69,
   "metadata": {},
   "outputs": [
    {
     "data": {
      "text/plain": [
       "0"
      ]
     },
     "execution_count": 69,
     "metadata": {},
     "output_type": "execute_result"
    }
   ],
   "source": [
    "sum(image_predictions['tweet_id'].duplicated())"
   ]
  },
  {
   "cell_type": "code",
   "execution_count": 70,
   "metadata": {},
   "outputs": [
    {
     "data": {
      "text/plain": [
       "(2175, 0)"
      ]
     },
     "execution_count": 70,
     "metadata": {},
     "output_type": "execute_result"
    }
   ],
   "source": [
    "len(archive_copy), sum(archive_copy['tweet_id'].duplicated())"
   ]
  },
  {
   "cell_type": "code",
   "execution_count": 71,
   "metadata": {},
   "outputs": [],
   "source": [
    "archive_copy = archive_copy[archive_copy['tweet_id'].duplicated()==False]"
   ]
  },
  {
   "cell_type": "code",
   "execution_count": 72,
   "metadata": {},
   "outputs": [],
   "source": [
    "archive_clean = archive_copy[archive_copy.duplicated()==False]\n",
    "archive_clean = archive_clean[archive_clean['rating_numerator']!=0]"
   ]
  },
  {
   "cell_type": "markdown",
   "metadata": {},
   "source": [
    "#### Test"
   ]
  },
  {
   "cell_type": "code",
   "execution_count": 73,
   "metadata": {},
   "outputs": [
    {
     "data": {
      "text/html": [
       "<div>\n",
       "<style scoped>\n",
       "    .dataframe tbody tr th:only-of-type {\n",
       "        vertical-align: middle;\n",
       "    }\n",
       "\n",
       "    .dataframe tbody tr th {\n",
       "        vertical-align: top;\n",
       "    }\n",
       "\n",
       "    .dataframe thead th {\n",
       "        text-align: right;\n",
       "    }\n",
       "</style>\n",
       "<table border=\"1\" class=\"dataframe\">\n",
       "  <thead>\n",
       "    <tr style=\"text-align: right;\">\n",
       "      <th></th>\n",
       "      <th>tweet_id</th>\n",
       "      <th>timestamp</th>\n",
       "      <th>source</th>\n",
       "      <th>text</th>\n",
       "      <th>expanded_urls</th>\n",
       "      <th>rating_numerator</th>\n",
       "      <th>rating_denominator</th>\n",
       "      <th>name</th>\n",
       "      <th>doggo</th>\n",
       "      <th>floofer</th>\n",
       "      <th>pupper</th>\n",
       "      <th>puppo</th>\n",
       "      <th>dog_stage</th>\n",
       "    </tr>\n",
       "  </thead>\n",
       "  <tbody>\n",
       "  </tbody>\n",
       "</table>\n",
       "</div>"
      ],
      "text/plain": [
       "Empty DataFrame\n",
       "Columns: [tweet_id, timestamp, source, text, expanded_urls, rating_numerator, rating_denominator, name, doggo, floofer, pupper, puppo, dog_stage]\n",
       "Index: []"
      ]
     },
     "execution_count": 73,
     "metadata": {},
     "output_type": "execute_result"
    }
   ],
   "source": [
    "archive_clean[archive_clean.duplicated()]"
   ]
  },
  {
   "cell_type": "code",
   "execution_count": 74,
   "metadata": {},
   "outputs": [
    {
     "data": {
      "text/plain": [
       "1"
      ]
     },
     "execution_count": 74,
     "metadata": {},
     "output_type": "execute_result"
    }
   ],
   "source": [
    "archive_clean['rating_numerator'].min()"
   ]
  },
  {
   "cell_type": "code",
   "execution_count": 75,
   "metadata": {},
   "outputs": [
    {
     "data": {
      "text/plain": [
       "(2173, 0)"
      ]
     },
     "execution_count": 75,
     "metadata": {},
     "output_type": "execute_result"
    }
   ],
   "source": [
    "len(archive_clean), sum(archive_clean['tweet_id'].duplicated())"
   ]
  },
  {
   "cell_type": "code",
   "execution_count": 76,
   "metadata": {},
   "outputs": [
    {
     "data": {
      "text/plain": [
       "(2331, 0)"
      ]
     },
     "execution_count": 76,
     "metadata": {},
     "output_type": "execute_result"
    }
   ],
   "source": [
    "len(dog_data),sum(dog_data['tweet_id'].duplicated())"
   ]
  },
  {
   "cell_type": "code",
   "execution_count": 77,
   "metadata": {},
   "outputs": [
    {
     "data": {
      "text/plain": [
       "(2075, 0)"
      ]
     },
     "execution_count": 77,
     "metadata": {},
     "output_type": "execute_result"
    }
   ],
   "source": [
    "len(image_predictions),sum(image_predictions['tweet_id'].duplicated())"
   ]
  },
  {
   "cell_type": "markdown",
   "metadata": {},
   "source": [
    "#### Define6\n",
    "Merge dataframes together"
   ]
  },
  {
   "cell_type": "markdown",
   "metadata": {},
   "source": [
    "#### code"
   ]
  },
  {
   "cell_type": "code",
   "execution_count": 87,
   "metadata": {},
   "outputs": [],
   "source": [
    "dog_data['tweet_id']=dog_data['tweet_id'].astype(str)\n",
    "image_predictions['tweet_id']=image_predictions['tweet_id'].astype(str)\n",
    "archive_clean_merged = pd.merge(archive_clean,dog_data,on='tweet_id')\n",
    "archive_clean_merged = pd.merge(archive_clean_merged,image_predictions,on='tweet_id')"
   ]
  },
  {
   "cell_type": "code",
   "execution_count": 88,
   "metadata": {},
   "outputs": [],
   "source": [
    "archive_clean_merged.drop(['text_y','name_y','rating/10'],axis=1,inplace=True)\n",
    "archive_clean_merged.drop(['doggo','floofer','pupper','puppo'],axis=1,inplace=True)"
   ]
  },
  {
   "cell_type": "markdown",
   "metadata": {},
   "source": [
    "#### test"
   ]
  },
  {
   "cell_type": "code",
   "execution_count": 89,
   "metadata": {},
   "outputs": [
    {
     "data": {
      "text/plain": [
       "Index(['tweet_id', 'timestamp', 'source', 'text_x', 'expanded_urls',\n",
       "       'rating_numerator', 'rating_denominator', 'name_x', 'dog_stage',\n",
       "       'image', 'url', 'retweets', 'likes', 'jpg_url', 'img_num', 'pred_1',\n",
       "       'p1_conf', 'p1_dog', 'pred_2', 'p2_conf', 'p2_dog', 'pred_3', 'p3_conf',\n",
       "       'p3_dog'],\n",
       "      dtype='object')"
      ]
     },
     "execution_count": 89,
     "metadata": {},
     "output_type": "execute_result"
    }
   ],
   "source": [
    "archive_clean_merged.columns"
   ]
  },
  {
   "cell_type": "markdown",
   "metadata": {},
   "source": [
    "#### Define 7\n",
    "Extract the decimal ratings with regular expressions."
   ]
  },
  {
   "cell_type": "markdown",
   "metadata": {},
   "source": [
    "#### Code"
   ]
  },
  {
   "cell_type": "code",
   "execution_count": 104,
   "metadata": {},
   "outputs": [
    {
     "name": "stderr",
     "output_type": "stream",
     "text": [
      "/Users/tamimisu/opt/anaconda3/lib/python3.8/site-packages/pandas/core/strings.py:1954: UserWarning: This pattern has match groups. To actually get the groups, use str.extract.\n",
      "  return func(self, *args, **kwargs)\n"
     ]
    },
    {
     "data": {
      "text/html": [
       "<div>\n",
       "<style scoped>\n",
       "    .dataframe tbody tr th:only-of-type {\n",
       "        vertical-align: middle;\n",
       "    }\n",
       "\n",
       "    .dataframe tbody tr th {\n",
       "        vertical-align: top;\n",
       "    }\n",
       "\n",
       "    .dataframe thead th {\n",
       "        text-align: right;\n",
       "    }\n",
       "</style>\n",
       "<table border=\"1\" class=\"dataframe\">\n",
       "  <thead>\n",
       "    <tr style=\"text-align: right;\">\n",
       "      <th></th>\n",
       "      <th>tweet_id</th>\n",
       "      <th>text_x</th>\n",
       "      <th>rating_numerator</th>\n",
       "    </tr>\n",
       "  </thead>\n",
       "  <tbody>\n",
       "    <tr>\n",
       "      <th>39</th>\n",
       "      <td>883482846933004288</td>\n",
       "      <td>This is Bella. She hopes her smile made you sm...</td>\n",
       "      <td>5</td>\n",
       "    </tr>\n",
       "    <tr>\n",
       "      <th>498</th>\n",
       "      <td>786709082849828864</td>\n",
       "      <td>This is Logan, the Chow who lived. He solemnly...</td>\n",
       "      <td>75</td>\n",
       "    </tr>\n",
       "    <tr>\n",
       "      <th>547</th>\n",
       "      <td>778027034220126208</td>\n",
       "      <td>This is Sophie. She's a Jubilant Bush Pupper. ...</td>\n",
       "      <td>27</td>\n",
       "    </tr>\n",
       "    <tr>\n",
       "      <th>1366</th>\n",
       "      <td>680494726643068929</td>\n",
       "      <td>Here we have uncovered an entire battalion of ...</td>\n",
       "      <td>26</td>\n",
       "    </tr>\n",
       "  </tbody>\n",
       "</table>\n",
       "</div>"
      ],
      "text/plain": [
       "                tweet_id                                             text_x  \\\n",
       "39    883482846933004288  This is Bella. She hopes her smile made you sm...   \n",
       "498   786709082849828864  This is Logan, the Chow who lived. He solemnly...   \n",
       "547   778027034220126208  This is Sophie. She's a Jubilant Bush Pupper. ...   \n",
       "1366  680494726643068929  Here we have uncovered an entire battalion of ...   \n",
       "\n",
       "      rating_numerator  \n",
       "39                   5  \n",
       "498                 75  \n",
       "547                 27  \n",
       "1366                26  "
      ]
     },
     "execution_count": 104,
     "metadata": {},
     "output_type": "execute_result"
    }
   ],
   "source": [
    "#find rows with decimal points in rating \n",
    "archive_clean_merged[archive_clean_merged.text_x.str.contains(r\"(\\d+\\.\\d*\\/\\d+)\")][['tweet_id','text_x', 'rating_numerator']]"
   ]
  },
  {
   "cell_type": "code",
   "execution_count": 150,
   "metadata": {},
   "outputs": [],
   "source": [
    "archive_clean_merged['rating_numerator'] = archive_clean_merged['text_x'].str.extract('(\\d+\\.*\\d*\\/\\d+)', expand=False).str.split('/').str[0]"
   ]
  },
  {
   "cell_type": "code",
   "execution_count": 151,
   "metadata": {},
   "outputs": [],
   "source": [
    "archive_clean_merged['rating_numerator'] = archive_clean_merged['rating_numerator'].astype('float')\n",
    "archive_clean_merged['rating_denominator'] = archive_clean_merged['rating_denominator'].astype('float')"
   ]
  },
  {
   "cell_type": "markdown",
   "metadata": {},
   "source": [
    "#### Test"
   ]
  },
  {
   "cell_type": "code",
   "execution_count": 152,
   "metadata": {},
   "outputs": [
    {
     "data": {
      "text/plain": [
       "1776.0"
      ]
     },
     "execution_count": 152,
     "metadata": {},
     "output_type": "execute_result"
    }
   ],
   "source": [
    "archive_clean_merged['rating_numerator'].max()"
   ]
  },
  {
   "cell_type": "code",
   "execution_count": 154,
   "metadata": {},
   "outputs": [
    {
     "data": {
      "text/plain": [
       "1.00         5\n",
       "2.00         9\n",
       "3.00        19\n",
       "4.00        16\n",
       "5.00        32\n",
       "6.00        32\n",
       "7.00        52\n",
       "8.00        95\n",
       "9.00       151\n",
       "9.75         1\n",
       "10.00      418\n",
       "11.00      396\n",
       "11.26        1\n",
       "11.27        1\n",
       "12.00      448\n",
       "13.00      257\n",
       "13.50        1\n",
       "14.00       35\n",
       "24.00        1\n",
       "44.00        1\n",
       "45.00        1\n",
       "50.00        1\n",
       "60.00        1\n",
       "80.00        1\n",
       "84.00        1\n",
       "88.00        1\n",
       "99.00        1\n",
       "121.00       1\n",
       "143.00       1\n",
       "144.00       1\n",
       "165.00       1\n",
       "204.00       1\n",
       "420.00       1\n",
       "1776.00      1\n",
       "Name: rating_numerator, dtype: int64"
      ]
     },
     "execution_count": 154,
     "metadata": {},
     "output_type": "execute_result"
    }
   ],
   "source": [
    "archive_clean_merged['rating_numerator'].value_counts().sort_index()"
   ]
  },
  {
   "cell_type": "markdown",
   "metadata": {},
   "source": [
    "## Store "
   ]
  },
  {
   "cell_type": "code",
   "execution_count": 114,
   "metadata": {},
   "outputs": [],
   "source": [
    "archive_clean_merged.to_csv('twitter_archive_master.csv')\n",
    "predictions_copy.to_csv('predictions_cleaned.csv')"
   ]
  },
  {
   "cell_type": "markdown",
   "metadata": {},
   "source": [
    "#  Analyze and  Visualize "
   ]
  },
  {
   "cell_type": "code",
   "execution_count": 115,
   "metadata": {},
   "outputs": [],
   "source": [
    "def PlotFunc(data,title,x,y1,y2,xlabel,ylabel):\n",
    "    fig, ax = plt.subplots()\n",
    "    data.plot(ax = ax,x = x, y = y1,title=title)\n",
    "    data.plot(ax = ax,x = x, y = y2, c='r',title=title)\n",
    "    ax.set(xticks=[])\n",
    "    ax.set_xlabel(xlabel) \n",
    "    ax.set_ylabel(ylabel)\n",
    "    return "
   ]
  },
  {
   "cell_type": "code",
   "execution_count": 118,
   "metadata": {},
   "outputs": [
    {
     "data": {
      "image/png": "[encoded data removed]",
      "text/plain": [
       "<Figure size 432x288 with 1 Axes>"
      ]
     },
     "metadata": {
      "needs_background": "light"
     },
     "output_type": "display_data"
    }
   ],
   "source": [
    "PlotFunc(archive_clean_merged,'Most Liked Dogs','tweet_id','likes','retweets','Dogs','Reactions')"
   ]
  },
  {
   "cell_type": "code",
   "execution_count": 119,
   "metadata": {},
   "outputs": [
    {
     "data": {
      "text/plain": [
       "(152490, 75470)"
      ]
     },
     "execution_count": 119,
     "metadata": {},
     "output_type": "execute_result"
    }
   ],
   "source": [
    "max_likes = archive_clean_merged['likes'].max()\n",
    "max_retweets = archive_clean_merged['retweets'].max()\n",
    "max_likes,max_retweets"
   ]
  },
  {
   "cell_type": "code",
   "execution_count": 120,
   "metadata": {},
   "outputs": [
    {
     "data": {
      "text/plain": [
       "767    744234799360020481\n",
       "Name: tweet_id, dtype: object"
      ]
     },
     "execution_count": 120,
     "metadata": {},
     "output_type": "execute_result"
    }
   ],
   "source": [
    "liked_id = archive_clean_merged[archive_clean_merged['likes']==max_likes]['tweet_id']\n",
    "liked_id"
   ]
  },
  {
   "cell_type": "code",
   "execution_count": 121,
   "metadata": {},
   "outputs": [
    {
     "data": {
      "text/plain": [
       "767    744234799360020481\n",
       "Name: tweet_id, dtype: object"
      ]
     },
     "execution_count": 121,
     "metadata": {},
     "output_type": "execute_result"
    }
   ],
   "source": [
    "retweeted_id = archive_clean_merged[archive_clean_merged['retweets']==max_retweets]['tweet_id']\n",
    "retweeted_id ##seems to be the same tweet"
   ]
  },
  {
   "cell_type": "code",
   "execution_count": 122,
   "metadata": {},
   "outputs": [
    {
     "data": {
      "text/html": [
       "<div>\n",
       "<style scoped>\n",
       "    .dataframe tbody tr th:only-of-type {\n",
       "        vertical-align: middle;\n",
       "    }\n",
       "\n",
       "    .dataframe tbody tr th {\n",
       "        vertical-align: top;\n",
       "    }\n",
       "\n",
       "    .dataframe thead th {\n",
       "        text-align: right;\n",
       "    }\n",
       "</style>\n",
       "<table border=\"1\" class=\"dataframe\">\n",
       "  <thead>\n",
       "    <tr style=\"text-align: right;\">\n",
       "      <th></th>\n",
       "      <th>tweet_id</th>\n",
       "      <th>timestamp</th>\n",
       "      <th>source</th>\n",
       "      <th>text_x</th>\n",
       "      <th>expanded_urls</th>\n",
       "      <th>rating_numerator</th>\n",
       "      <th>rating_denominator</th>\n",
       "      <th>name_x</th>\n",
       "      <th>dog_stage</th>\n",
       "      <th>image</th>\n",
       "      <th>...</th>\n",
       "      <th>img_num</th>\n",
       "      <th>pred_1</th>\n",
       "      <th>p1_conf</th>\n",
       "      <th>p1_dog</th>\n",
       "      <th>pred_2</th>\n",
       "      <th>p2_conf</th>\n",
       "      <th>p2_dog</th>\n",
       "      <th>pred_3</th>\n",
       "      <th>p3_conf</th>\n",
       "      <th>p3_dog</th>\n",
       "    </tr>\n",
       "  </thead>\n",
       "  <tbody>\n",
       "    <tr>\n",
       "      <th>767</th>\n",
       "      <td>744234799360020481</td>\n",
       "      <td>2016-06-18 18:26:18</td>\n",
       "      <td>&lt;a href=\"http://twitter.com/download/iphone\" r...</td>\n",
       "      <td>Here's a doggo realizing you can stand in a po...</td>\n",
       "      <td>https://twitter.com/dog_rates/status/888554962...</td>\n",
       "      <td>13</td>\n",
       "      <td>10</td>\n",
       "      <td>None</td>\n",
       "      <td>doggo</td>\n",
       "      <td>https://pbs.twimg.com/ext_tw_video_thumb/74423...</td>\n",
       "      <td>...</td>\n",
       "      <td>1</td>\n",
       "      <td>Labrador_retriever</td>\n",
       "      <td>0.825333</td>\n",
       "      <td>True</td>\n",
       "      <td>ice_bear</td>\n",
       "      <td>0.044681</td>\n",
       "      <td>False</td>\n",
       "      <td>whippet</td>\n",
       "      <td>0.018442</td>\n",
       "      <td>True</td>\n",
       "    </tr>\n",
       "  </tbody>\n",
       "</table>\n",
       "<p>1 rows × 24 columns</p>\n",
       "</div>"
      ],
      "text/plain": [
       "               tweet_id           timestamp  \\\n",
       "767  744234799360020481 2016-06-18 18:26:18   \n",
       "\n",
       "                                                source  \\\n",
       "767  <a href=\"http://twitter.com/download/iphone\" r...   \n",
       "\n",
       "                                                text_x  \\\n",
       "767  Here's a doggo realizing you can stand in a po...   \n",
       "\n",
       "                                         expanded_urls rating_numerator  \\\n",
       "767  https://twitter.com/dog_rates/status/888554962...               13   \n",
       "\n",
       "     rating_denominator name_x dog_stage  \\\n",
       "767                  10   None     doggo   \n",
       "\n",
       "                                                 image  ... img_num  \\\n",
       "767  https://pbs.twimg.com/ext_tw_video_thumb/74423...  ...       1   \n",
       "\n",
       "                 pred_1   p1_conf p1_dog    pred_2   p2_conf  p2_dog   pred_3  \\\n",
       "767  Labrador_retriever  0.825333   True  ice_bear  0.044681   False  whippet   \n",
       "\n",
       "      p3_conf  p3_dog  \n",
       "767  0.018442    True  \n",
       "\n",
       "[1 rows x 24 columns]"
      ]
     },
     "execution_count": 122,
     "metadata": {},
     "output_type": "execute_result"
    }
   ],
   "source": [
    "archive_clean_merged[archive_clean_merged['likes']==max_likes]"
   ]
  },
  {
   "cell_type": "markdown",
   "metadata": {},
   "source": [
    "#### Common names of dogs"
   ]
  },
  {
   "cell_type": "code",
   "execution_count": 123,
   "metadata": {},
   "outputs": [
    {
     "data": {
      "text/plain": [
       "None       544\n",
       "a           55\n",
       "Oliver      10\n",
       "Cooper      10\n",
       "Charlie     10\n",
       "          ... \n",
       "Bilbo        1\n",
       "Sailor       1\n",
       "Beemo        1\n",
       "Rose         1\n",
       "Ulysses      1\n",
       "Name: name_x, Length: 934, dtype: int64"
      ]
     },
     "execution_count": 123,
     "metadata": {},
     "output_type": "execute_result"
    }
   ],
   "source": [
    "x = archive_clean_merged.name_x.value_counts()\n",
    "x"
   ]
  },
  {
   "cell_type": "code",
   "execution_count": 165,
   "metadata": {},
   "outputs": [
    {
     "data": {
      "image/png": "[encoded data removed]",
      "text/plain": [
       "<Figure size 720x360 with 1 Axes>"
      ]
     },
     "metadata": {
      "needs_background": "light"
     },
     "output_type": "display_data"
    }
   ],
   "source": [
    "fig, ax = plt.subplots()\n",
    "\n",
    "x[2:8].plot(figsize=(10,5), title='common dog names').set_xlabel(\"Dog names\")\n",
    "ax.set_ylabel(\"Frequency\");"
   ]
  },
  {
   "cell_type": "code",
   "execution_count": 125,
   "metadata": {},
   "outputs": [
    {
     "data": {
      "text/plain": [
       "101     https://pbs.twimg.com/media/DA23sCeVoAE3uF0.jpg\n",
       "352     https://pbs.twimg.com/media/C09p5dJWIAE5qKL.jpg\n",
       "393     https://pbs.twimg.com/media/CzaY5UdUoAAC91S.jpg\n",
       "433     https://pbs.twimg.com/media/CxPPnCYWIAAo_ao.jpg\n",
       "662     https://pbs.twimg.com/media/CoOTyXJXEAAtjs9.jpg\n",
       "702     https://pbs.twimg.com/media/CmyPXNOW8AEtaJ-.jpg\n",
       "994     https://pbs.twimg.com/media/CdO-6x5W8AENSBJ.jpg\n",
       "1030    https://pbs.twimg.com/media/Cco8OmOXIAE0aCu.jpg\n",
       "1087    https://pbs.twimg.com/media/CbYyCMbWEAAg7hR.jpg\n",
       "1446    https://pbs.twimg.com/media/CWUZpydWcAAeipD.jpg\n",
       "Name: image, dtype: object"
      ]
     },
     "execution_count": 125,
     "metadata": {},
     "output_type": "execute_result"
    }
   ],
   "source": [
    "archive_clean_merged[archive_clean_merged['name_x']=='Cooper']['image']"
   ]
  },
  {
   "cell_type": "code",
   "execution_count": 128,
   "metadata": {
    "scrolled": true
   },
   "outputs": [
    {
     "data": {
      "image/png": "[encoded data removed]",
      "text/plain": [
       "<Figure size 576x288 with 1 Axes>"
      ]
     },
     "metadata": {
      "needs_background": "light"
     },
     "output_type": "display_data"
    }
   ],
   "source": [
    "ratings = archive_clean_merged.rating_numerator.value_counts()\n",
    "fig, ax = plt.subplots()\n",
    "ax.set_xlabel(\"Ratings\")\n",
    "ax.set_ylabel(\"Frequency\");\n",
    "ratings.sort_index().plot(figsize=(8,4),kind = 'bar', title = 'Dog Rating',color = 'green')\n",
    "ax.set_yticks([0, 50, 100, 200, 300, 400,500]);"
   ]
  },
  {
   "cell_type": "code",
   "execution_count": 161,
   "metadata": {},
   "outputs": [
    {
     "data": {
      "text/html": [
       "<div>\n",
       "<style scoped>\n",
       "    .dataframe tbody tr th:only-of-type {\n",
       "        vertical-align: middle;\n",
       "    }\n",
       "\n",
       "    .dataframe tbody tr th {\n",
       "        vertical-align: top;\n",
       "    }\n",
       "\n",
       "    .dataframe thead th {\n",
       "        text-align: right;\n",
       "    }\n",
       "</style>\n",
       "<table border=\"1\" class=\"dataframe\">\n",
       "  <thead>\n",
       "    <tr style=\"text-align: right;\">\n",
       "      <th></th>\n",
       "      <th>tweet_id</th>\n",
       "      <th>timestamp</th>\n",
       "      <th>source</th>\n",
       "      <th>text_x</th>\n",
       "      <th>expanded_urls</th>\n",
       "      <th>rating_numerator</th>\n",
       "      <th>rating_denominator</th>\n",
       "      <th>name_x</th>\n",
       "      <th>dog_stage</th>\n",
       "      <th>image</th>\n",
       "      <th>...</th>\n",
       "      <th>img_num</th>\n",
       "      <th>pred_1</th>\n",
       "      <th>p1_conf</th>\n",
       "      <th>p1_dog</th>\n",
       "      <th>pred_2</th>\n",
       "      <th>p2_conf</th>\n",
       "      <th>p2_dog</th>\n",
       "      <th>pred_3</th>\n",
       "      <th>p3_conf</th>\n",
       "      <th>p3_dog</th>\n",
       "    </tr>\n",
       "  </thead>\n",
       "  <tbody>\n",
       "    <tr>\n",
       "      <th>719</th>\n",
       "      <td>749981277374128128</td>\n",
       "      <td>2016-07-04 15:00:45</td>\n",
       "      <td>&lt;a href=\"https://about.twitter.com/products/tw...</td>\n",
       "      <td>This is Atticus. He's quite simply America af....</td>\n",
       "      <td>https://twitter.com/dog_rates/status/888554962...</td>\n",
       "      <td>1776.0</td>\n",
       "      <td>10.0</td>\n",
       "      <td>Atticus</td>\n",
       "      <td>NaN</td>\n",
       "      <td>https://pbs.twimg.com/media/CmgBZ7kWcAAlzFD.jpg</td>\n",
       "      <td>...</td>\n",
       "      <td>1</td>\n",
       "      <td>bow_tie</td>\n",
       "      <td>0.533941</td>\n",
       "      <td>False</td>\n",
       "      <td>sunglasses</td>\n",
       "      <td>0.080822</td>\n",
       "      <td>False</td>\n",
       "      <td>sunglass</td>\n",
       "      <td>0.050776</td>\n",
       "      <td>False</td>\n",
       "    </tr>\n",
       "  </tbody>\n",
       "</table>\n",
       "<p>1 rows × 24 columns</p>\n",
       "</div>"
      ],
      "text/plain": [
       "               tweet_id           timestamp  \\\n",
       "719  749981277374128128 2016-07-04 15:00:45   \n",
       "\n",
       "                                                source  \\\n",
       "719  <a href=\"https://about.twitter.com/products/tw...   \n",
       "\n",
       "                                                text_x  \\\n",
       "719  This is Atticus. He's quite simply America af....   \n",
       "\n",
       "                                         expanded_urls  rating_numerator  \\\n",
       "719  https://twitter.com/dog_rates/status/888554962...            1776.0   \n",
       "\n",
       "     rating_denominator   name_x dog_stage  \\\n",
       "719                10.0  Atticus       NaN   \n",
       "\n",
       "                                               image  ... img_num   pred_1  \\\n",
       "719  https://pbs.twimg.com/media/CmgBZ7kWcAAlzFD.jpg  ...       1  bow_tie   \n",
       "\n",
       "      p1_conf p1_dog      pred_2   p2_conf  p2_dog    pred_3   p3_conf  p3_dog  \n",
       "719  0.533941  False  sunglasses  0.080822   False  sunglass  0.050776   False  \n",
       "\n",
       "[1 rows x 24 columns]"
      ]
     },
     "execution_count": 161,
     "metadata": {},
     "output_type": "execute_result"
    }
   ],
   "source": [
    "rates = archive_clean_merged['rating_numerator']/archive_clean_merged['rating_denominator']\n",
    "max_rated = rates.max()\n",
    "high_rated = archive_clean_merged[archive_clean_merged['rating_numerator']/archive_clean_merged['rating_denominator']==max_rated]\n",
    "high_rated"
   ]
  },
  {
   "cell_type": "code",
   "execution_count": null,
   "metadata": {},
   "outputs": [],
   "source": []
  }
 ],
 "metadata": {
  "kernelspec": {
   "display_name": "Python 3",
   "language": "python",
   "name": "python3"
  },
  "language_info": {
   "codemirror_mode": {
    "name": "ipython",
    "version": 3
   },
   "file_extension": ".py",
   "mimetype": "text/x-python",
   "name": "python",
   "nbconvert_exporter": "python",
   "pygments_lexer": "ipython3",
   "version": "3.8.3"
  }
 },
 "nbformat": 4,
 "nbformat_minor": 4
}
