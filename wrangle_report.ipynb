{
 "cells": [
  {
   "cell_type": "markdown",
   "metadata": {},
   "source": [
    "#  WeRateDogs Twitter data \n",
    "\n",
    "Gathering and Analysing dog data!<br>\n",
    "**by : Sumaya Altamimi**<br>\n",
    "![](images/dog_cover.jpeg)"
   ]
  },
  {
   "cell_type": "markdown",
   "metadata": {},
   "source": [
    "In this report I will briefly describes my wrangling efforts. to analyze Dog Data from twitter, I needed to seperate my works to three areas:\n",
    "1. Gather\n",
    "2. Asses\n",
    "3. Clean\n",
    "I will explain each below:"
   ]
  },
  {
   "cell_type": "markdown",
   "metadata": {},
   "source": [
    "## Data Gathering\n",
    "#### For this process, I have need  four files:"
   ]
  },
  {
   "cell_type": "markdown",
   "metadata": {},
   "source": [
    "- Two already gathered for me, wich contains tweet IDs and other data.. `twitter-archive-enhanced.csv` and `image_predictions.csv` so I imported the files from pandas library.\n",
    "- The second file is available at this url : https://d17h27t6h515a5.cloudfront.net/topher/2017/August/599fd2ad_image-predictions/image-predictions.tsv. So, I used os and requests library to save this file.\n",
    "- The most interesting part is the third one, no file but tweets on twitter. for this part, I used tweepy API after I made Twitter developer account and requested access tokens."
   ]
  },
  {
   "cell_type": "markdown",
   "metadata": {},
   "source": [
    "## Data Assessment\n",
    "#### For this process, I have assessed  two main types of issues:\n"
   ]
  },
  {
   "cell_type": "markdown",
   "metadata": {},
   "source": [
    "- **Tidiness issues (or structure issues)**, there are many issues of this type in my data, such as some different columns are not supposed to be seperated. Also some missing columns in some of the files that might need to be merged from other files like retweets and likes columns.\n",
    "\n",
    "-  **Quality issues (or content issues)** , some data are retweets or not dog ratings. some are duplicated."
   ]
  },
  {
   "cell_type": "markdown",
   "metadata": {},
   "source": [
    "## Data Cleaning \n",
    "#### For this process, I have cleaned both  types of issues, and the result was a very high quality and tidy master pandas DataFrames. "
   ]
  },
  {
   "cell_type": "markdown",
   "metadata": {},
   "source": [
    "First, I created cpoies of all data to work with, and then each socumented issue has passed three stages:\n",
    "- Define\n",
    "- Code\n",
    "- Test"
   ]
  },
  {
   "cell_type": "markdown",
   "metadata": {},
   "source": [
    "## Data Storing \n",
    "#### Here I just saved the cleaned data using, again , pandas libraries."
   ]
  },
  {
   "cell_type": "markdown",
   "metadata": {},
   "source": [
    "## Analyze and Visualize\n",
    "#### In this process, I found and documented some relationships in my datasets.\n",
    "- I used matplotlib.pyplot library to plot some relationships.\n",
    "- I found the most rated, liked, and named dogs."
   ]
  }
 ],
 "metadata": {
  "kernelspec": {
   "display_name": "Python 3",
   "language": "python",
   "name": "python3"
  },
  "language_info": {
   "codemirror_mode": {
    "name": "ipython",
    "version": 3
   },
   "file_extension": ".py",
   "mimetype": "text/x-python",
   "name": "python",
   "nbconvert_exporter": "python",
   "pygments_lexer": "ipython3",
   "version": "3.8.3"
  }
 },
 "nbformat": 4,
 "nbformat_minor": 4
}
